{
  "nbformat": 4,
  "nbformat_minor": 0,
  "metadata": {
    "anaconda-cloud": {},
    "kernelspec": {
      "display_name": "Python 3",
      "language": "python",
      "name": "python3"
    },
    "language_info": {
      "codemirror_mode": {
        "name": "ipython",
        "version": 3
      },
      "file_extension": ".py",
      "mimetype": "text/x-python",
      "name": "python",
      "nbconvert_exporter": "python",
      "pygments_lexer": "ipython3",
      "version": "3.7.4"
    },
    "colab": {
      "name": "1. 파이썬_숫자_문자열_리스트_딕셔너리_집합.ipynb의 사본",
      "provenance": []
    }
  },
  "cells": [
    {
      "cell_type": "markdown",
      "metadata": {
        "id": "vmc0ZDZHd61Q"
      },
      "source": [
        "# 1. 숫자형"
      ]
    },
    {
      "cell_type": "markdown",
      "metadata": {
        "id": "ODtf50R9d61U"
      },
      "source": [
        "## 파이썬을 계산기로 쓰기"
      ]
    },
    {
      "cell_type": "markdown",
      "metadata": {
        "id": "KV_fO2wld61U"
      },
      "source": [
        "계산기가 옆에 없을 때, 파이썬을 계산기로 쓸 수 있다. 초등학교 시절로 돌아가서, 다음 수식을 아래 빈 칸에 똑같이 쓰고 실행해 보자."
      ]
    },
    {
      "cell_type": "raw",
      "metadata": {
        "id": "KHaEuJiKd61V"
      },
      "source": [
        "1 + 2"
      ]
    },
    {
      "cell_type": "code",
      "metadata": {
        "collapsed": true,
        "id": "Eqm0FAvYd61V",
        "colab": {
          "base_uri": "https://localhost:8080/"
        },
        "outputId": "a469ec80-66dc-4def-ae91-a0ac06b32337"
      },
      "source": [
        "1 + 2"
      ],
      "execution_count": 36,
      "outputs": [
        {
          "output_type": "execute_result",
          "data": {
            "text/plain": [
              "3"
            ]
          },
          "metadata": {},
          "execution_count": 36
        }
      ]
    },
    {
      "cell_type": "markdown",
      "metadata": {
        "id": "A4L9oDD-d61W"
      },
      "source": [
        "나눗셈(/)과 곱셈(*) 역시 예상한 대로 결과값을 보여준다."
      ]
    },
    {
      "cell_type": "raw",
      "metadata": {
        "id": "EiYaMT4bd61W"
      },
      "source": [
        "3 / 2.4"
      ]
    },
    {
      "cell_type": "code",
      "metadata": {
        "collapsed": true,
        "id": "3NhbBWcid61X",
        "colab": {
          "base_uri": "https://localhost:8080/"
        },
        "outputId": "d2c11a7b-aea8-49ab-83b5-f27362f272d2"
      },
      "source": [
        "3 / 2.4"
      ],
      "execution_count": 37,
      "outputs": [
        {
          "output_type": "execute_result",
          "data": {
            "text/plain": [
              "1.25"
            ]
          },
          "metadata": {},
          "execution_count": 37
        }
      ]
    },
    {
      "cell_type": "raw",
      "metadata": {
        "id": "Hdeq7rW_d61X"
      },
      "source": [
        "3 * 9"
      ]
    },
    {
      "cell_type": "code",
      "metadata": {
        "collapsed": true,
        "id": "UPGC5XIZd61Y",
        "colab": {
          "base_uri": "https://localhost:8080/"
        },
        "outputId": "dd4b087d-b569-40af-e29b-c403a53ac5c4"
      },
      "source": [
        "3 * 9"
      ],
      "execution_count": 38,
      "outputs": [
        {
          "output_type": "execute_result",
          "data": {
            "text/plain": [
              "27"
            ]
          },
          "metadata": {},
          "execution_count": 38
        }
      ]
    },
    {
      "cell_type": "markdown",
      "metadata": {
        "id": "pHfJ1TVnd61Y"
      },
      "source": [
        "Q. 환율이 1달러 당 1200원일 때, 한국 돈 만원 짜리 2장과 오천원 짜리 3장, 천원 짜리 1장은 몇 달러일까?"
      ]
    },
    {
      "cell_type": "raw",
      "metadata": {
        "id": "7tC3lhJNd61Z"
      },
      "source": [
        "(10000 * 2 + 5000 * 3 + 1000) / 1200"
      ]
    },
    {
      "cell_type": "code",
      "metadata": {
        "collapsed": true,
        "id": "Dnig0TOId61Z",
        "colab": {
          "base_uri": "https://localhost:8080/"
        },
        "outputId": "ec160a9d-091d-490f-f1b7-317d29f1a6d1"
      },
      "source": [
        "(10000 * 2 + 5000 * 3 + 1000) / 1200"
      ],
      "execution_count": 39,
      "outputs": [
        {
          "output_type": "execute_result",
          "data": {
            "text/plain": [
              "30.0"
            ]
          },
          "metadata": {},
          "execution_count": 39
        }
      ]
    },
    {
      "cell_type": "markdown",
      "metadata": {
        "id": "eETKUSlNd61a"
      },
      "source": [
        "변수에 숫자를 대입하고 계산할 수도 있다."
      ]
    },
    {
      "cell_type": "raw",
      "metadata": {
        "id": "5RIF113fd61a"
      },
      "source": [
        "a = 1\n",
        "\n",
        "b = 2\n",
        "\n",
        "a + b"
      ]
    },
    {
      "cell_type": "code",
      "metadata": {
        "collapsed": true,
        "id": "WtG2QN4Dd61b",
        "colab": {
          "base_uri": "https://localhost:8080/"
        },
        "outputId": "4a8260a3-e76c-4453-9b5e-1c9758ed203c"
      },
      "source": [
        "a = 1\n",
        "b = 2\n",
        "a + b"
      ],
      "execution_count": 40,
      "outputs": [
        {
          "output_type": "execute_result",
          "data": {
            "text/plain": [
              "3"
            ]
          },
          "metadata": {},
          "execution_count": 40
        }
      ]
    },
    {
      "cell_type": "markdown",
      "metadata": {
        "id": "l9_i2QHwd61b"
      },
      "source": [
        "사칙연산 외에도 파이썬에서 쓰이는 다른 수학 기호들도 알아보자.\n",
        "\n",
        "\n",
        "제곱은 파이썬에서 별표 두개(**)로 표시된다."
      ]
    },
    {
      "cell_type": "raw",
      "metadata": {
        "id": "nC4SILSmd61b"
      },
      "source": [
        "a = 3\n",
        "\n",
        "b = 4\n",
        "\n",
        "a ** b"
      ]
    },
    {
      "cell_type": "code",
      "metadata": {
        "collapsed": true,
        "id": "fAeFeGkzd61b",
        "colab": {
          "base_uri": "https://localhost:8080/"
        },
        "outputId": "7884d0cb-8d80-4ea7-a89e-87b1bc5d29d3"
      },
      "source": [
        "a = 3\n",
        "b = 4\n",
        "a ** b"
      ],
      "execution_count": 41,
      "outputs": [
        {
          "output_type": "execute_result",
          "data": {
            "text/plain": [
              "81"
            ]
          },
          "metadata": {},
          "execution_count": 41
        }
      ]
    },
    {
      "cell_type": "markdown",
      "metadata": {
        "id": "DWaDZLtZd61c"
      },
      "source": [
        "곱하기 기호(*)를 두개 쓰면 제곱이라니, 그럼 나누기 기호(/)를 두개 쓰면 무엇이 될까?\n",
        "\n",
        "나눗셈을 하면 몫과 나머지가 생긴다. 나누기 기호 두개(//)는 나눗셈의 몫을 계산한다. 또는 나눗셈 결과에서 소수점 아래를 버린 값이라고 생각해도 좋다."
      ]
    },
    {
      "cell_type": "raw",
      "metadata": {
        "id": "-ozArVeed61c"
      },
      "source": [
        "7 // 4"
      ]
    },
    {
      "cell_type": "code",
      "metadata": {
        "collapsed": true,
        "id": "KAHpoGuDd61c",
        "colab": {
          "base_uri": "https://localhost:8080/"
        },
        "outputId": "546cbc48-ac31-40c2-9c1c-1d0281874729"
      },
      "source": [
        "7 // 4\n"
      ],
      "execution_count": 43,
      "outputs": [
        {
          "output_type": "execute_result",
          "data": {
            "text/plain": [
              "1"
            ]
          },
          "metadata": {},
          "execution_count": 43
        }
      ]
    },
    {
      "cell_type": "markdown",
      "metadata": {
        "id": "VAlqwdyJd61c"
      },
      "source": [
        "나눗셈의 나머지를 표시하는 기호도 있다. 퍼센트(%)이다."
      ]
    },
    {
      "cell_type": "raw",
      "metadata": {
        "id": "uAfB3QkTd61c"
      },
      "source": [
        "7 % 3"
      ]
    },
    {
      "cell_type": "code",
      "metadata": {
        "collapsed": true,
        "id": "IC-ZKjPGd61d",
        "colab": {
          "base_uri": "https://localhost:8080/"
        },
        "outputId": "dc8dcdee-ad44-4897-872a-d5c9fb22a067"
      },
      "source": [
        "7 % 3"
      ],
      "execution_count": 44,
      "outputs": [
        {
          "output_type": "execute_result",
          "data": {
            "text/plain": [
              "1"
            ]
          },
          "metadata": {},
          "execution_count": 44
        }
      ]
    },
    {
      "cell_type": "markdown",
      "metadata": {
        "id": "fmOfk035d61d"
      },
      "source": [
        "Q. 섭씨를 화씨로 바꾸기 위해서는 9/5를 곱하고 32를 더하면 된다. 섭씨 36.5도는 화씨로 몇 도일까?"
      ]
    },
    {
      "cell_type": "raw",
      "metadata": {
        "id": "_TEBZhkyd61d"
      },
      "source": [
        "36.5 * 9/5 + 32"
      ]
    },
    {
      "cell_type": "code",
      "metadata": {
        "collapsed": true,
        "id": "HwtBFo-rd61d",
        "colab": {
          "base_uri": "https://localhost:8080/"
        },
        "outputId": "bd056baa-36e5-4dd2-b7ca-17d627356246"
      },
      "source": [
        "36.5*(9/5)+32"
      ],
      "execution_count": 45,
      "outputs": [
        {
          "output_type": "execute_result",
          "data": {
            "text/plain": [
              "97.7"
            ]
          },
          "metadata": {},
          "execution_count": 45
        }
      ]
    },
    {
      "cell_type": "markdown",
      "metadata": {
        "id": "a9j_WbbNd61d"
      },
      "source": [
        "Q. 1평은 $3.3m^2$이다. 6평인 정사각형 모양의 방의 한 모서리는 몇 m일까?"
      ]
    },
    {
      "cell_type": "code",
      "metadata": {
        "collapsed": true,
        "id": "LwdpkZf4d61e",
        "colab": {
          "base_uri": "https://localhost:8080/"
        },
        "outputId": "ff40985d-a4bf-48b4-c721-9d7e2253d52f"
      },
      "source": [
        "(3.3 * 6) ** (1/2)"
      ],
      "execution_count": 46,
      "outputs": [
        {
          "output_type": "execute_result",
          "data": {
            "text/plain": [
              "4.449719092257397"
            ]
          },
          "metadata": {},
          "execution_count": 46
        }
      ]
    },
    {
      "cell_type": "markdown",
      "metadata": {
        "id": "0Ou8-0Vyd61e"
      },
      "source": [
        "제곱근을 하기 위해 수학 함수를 쓰는 방법도 있다. 나중에 외장 함수를 공부할 때 배우게 될 것이다."
      ]
    },
    {
      "cell_type": "markdown",
      "metadata": {
        "id": "kx2waO_2d61e"
      },
      "source": [
        "# 2. 문자열 자료형"
      ]
    },
    {
      "cell_type": "markdown",
      "metadata": {
        "id": "K3DWV0Add61e"
      },
      "source": [
        "문자열(String)이란 문자, 단어 등으로 구성된 문자들의 나열을 의미한다. 예를 들어 다음과 같은 것들이 문자열이다."
      ]
    },
    {
      "cell_type": "raw",
      "metadata": {
        "id": "FFpjfsEOd61e"
      },
      "source": [
        "\"Life is too short, You need Python\"\n",
        "\n",
        "\"a\"\n",
        "\n",
        "\"123\""
      ]
    },
    {
      "cell_type": "markdown",
      "metadata": {
        "id": "bNUozdyhd61f"
      },
      "source": [
        "위의 문자열 예문을 보면 모두 큰따옴표(\" \")로 둘러싸여 있다. 123은 숫자이지만 \"123\"은 문자열이다. 따옴표로 둘러싸여 있으면 모두 문자열이라고 보면 된다."
      ]
    },
    {
      "cell_type": "markdown",
      "metadata": {
        "id": "_qhxyM0cd61f"
      },
      "source": [
        "## 문자열은 어떻게 만들고 사용할까?"
      ]
    },
    {
      "cell_type": "markdown",
      "metadata": {
        "id": "bSV0G9MKd61f"
      },
      "source": [
        "#### 1. 큰따옴표로 양쪽 둘러싸기"
      ]
    },
    {
      "cell_type": "raw",
      "metadata": {
        "id": "Q79S2WP5d61f"
      },
      "source": [
        "\"Hello World\""
      ]
    },
    {
      "cell_type": "markdown",
      "metadata": {
        "id": "4e79g1vRd61f"
      },
      "source": [
        "#### 2. 작은따옴표로 양쪽 둘러싸기"
      ]
    },
    {
      "cell_type": "raw",
      "metadata": {
        "id": "mvzgIpnFd61f"
      },
      "source": [
        "'Python is fun'"
      ]
    },
    {
      "cell_type": "markdown",
      "metadata": {
        "id": "pfbbB7LKd61g"
      },
      "source": [
        "#### 3. 큰따옴표 3개를 연속으로 써서 양쪽 둘러싸기"
      ]
    },
    {
      "cell_type": "raw",
      "metadata": {
        "id": "Jx-thWmPd61g"
      },
      "source": [
        "\"\"\"Life is too short, You need python\"\"\""
      ]
    },
    {
      "cell_type": "markdown",
      "metadata": {
        "id": "zD0ZKZ9kd61g"
      },
      "source": [
        "#### 4. 작은따옴표 3개를 연속으로 써서 양쪽 둘러싸기"
      ]
    },
    {
      "cell_type": "raw",
      "metadata": {
        "id": "6nQb4PCad61g"
      },
      "source": [
        "'''Life is too short, You need python'''"
      ]
    },
    {
      "cell_type": "markdown",
      "metadata": {
        "id": "JqiEzkUod61g"
      },
      "source": [
        "### 문자열 안에 작은따옴표나 큰따옴표를 포함시키고 싶을 때"
      ]
    },
    {
      "cell_type": "markdown",
      "metadata": {
        "id": "348LCFUKd61g"
      },
      "source": [
        "#### 1. 문자열에 작은따옴표 (') 포함시키기"
      ]
    },
    {
      "cell_type": "raw",
      "metadata": {
        "id": "kBNFRlFCd61g"
      },
      "source": [
        "Python's favorite food is perl"
      ]
    },
    {
      "cell_type": "markdown",
      "metadata": {
        "id": "xSQrJi8Pd61g"
      },
      "source": [
        "위와 같은 문자열을 food라는 변수에 저장하고 싶다고 가정하자. 문자열 중 Python's에 작은따옴표(')가 포함되어 있다.\n",
        "\n",
        "이럴 때는 다음과 같이 문자열을 큰따옴표(\")로 둘러싸야 한다. 큰따옴표 안에 들어 있는 작은따옴표는 문자열을 나타내기 위한 기호로 인식되지 않는다."
      ]
    },
    {
      "cell_type": "code",
      "metadata": {
        "id": "VIONQiKPebxu"
      },
      "source": [
        "food = \"Python's favorite food is perl\""
      ],
      "execution_count": 47,
      "outputs": []
    },
    {
      "cell_type": "markdown",
      "metadata": {
        "id": "FWyurLImd61h"
      },
      "source": [
        "food를 입력해서 결과를 확인하자. 변수에 저장된 문자열이 그대로 출력되는 것 을 볼 수 있다."
      ]
    },
    {
      "cell_type": "code",
      "metadata": {
        "colab": {
          "base_uri": "https://localhost:8080/",
          "height": 35
        },
        "id": "MFoZhu5Dd61h",
        "outputId": "80a7f3cd-da87-40ee-c749-2eb12bc09451"
      },
      "source": [
        "food"
      ],
      "execution_count": 48,
      "outputs": [
        {
          "output_type": "execute_result",
          "data": {
            "application/vnd.google.colaboratory.intrinsic+json": {
              "type": "string"
            },
            "text/plain": [
              "\"Python's favorite food is perl\""
            ]
          },
          "metadata": {},
          "execution_count": 48
        }
      ]
    },
    {
      "cell_type": "markdown",
      "metadata": {
        "id": "FWOusxgld61i"
      },
      "source": [
        "시험 삼아 다음과 같이 큰따옴표(\")가 아닌 작은따옴표(')로 문자열을 둘러싼 후 다시 실행해 보자. 'Python'이 문자열로 인식되어 구문 오류(SyntaxError)가 발생할 것이다."
      ]
    },
    {
      "cell_type": "code",
      "metadata": {
        "colab": {
          "base_uri": "https://localhost:8080/",
          "height": 136
        },
        "id": "P1YZRfqdd61i",
        "outputId": "6709400f-f969-447c-f769-c827114983d2"
      },
      "source": [
        "food = 'Python's favorite food is perl'"
      ],
      "execution_count": 49,
      "outputs": [
        {
          "output_type": "error",
          "ename": "SyntaxError",
          "evalue": "ignored",
          "traceback": [
            "\u001b[0;36m  File \u001b[0;32m\"<ipython-input-49-336a85538234>\"\u001b[0;36m, line \u001b[0;32m1\u001b[0m\n\u001b[0;31m    food = 'Python's favorite food is perl'\u001b[0m\n\u001b[0m                   ^\u001b[0m\n\u001b[0;31mSyntaxError\u001b[0m\u001b[0;31m:\u001b[0m invalid syntax\n"
          ]
        }
      ]
    },
    {
      "cell_type": "markdown",
      "metadata": {
        "id": "rXFtPYJvd61i"
      },
      "source": [
        "#### 2. 문자열에 큰따옴표 (\") 포함시키기"
      ]
    },
    {
      "cell_type": "markdown",
      "metadata": {
        "id": "y3F030C_es69"
      },
      "source": [
        "```\n",
        "\"Python is very easy.\" he says.\n",
        "```\n",
        "\n"
      ]
    },
    {
      "cell_type": "markdown",
      "metadata": {
        "id": "t6iFyH55d61i"
      },
      "source": [
        "위와 같이 큰따옴표(\")가 포함된 문자열이라면 어떻게 해야 큰따옴표가 제대로 표현될까? 다음과 같이 문자열을 작은따옴표(')로 둘러싸면 된다."
      ]
    },
    {
      "cell_type": "code",
      "metadata": {
        "collapsed": true,
        "id": "juCTZ1L4d61j"
      },
      "source": [
        "say = '\"Python is very easy.\" he says.'"
      ],
      "execution_count": 51,
      "outputs": []
    },
    {
      "cell_type": "code",
      "source": [
        "say"
      ],
      "metadata": {
        "colab": {
          "base_uri": "https://localhost:8080/",
          "height": 35
        },
        "id": "-le04LxebGlP",
        "outputId": "f9a6dd73-66f3-453e-d0f4-9865bfaa8d8d"
      },
      "execution_count": 52,
      "outputs": [
        {
          "output_type": "execute_result",
          "data": {
            "application/vnd.google.colaboratory.intrinsic+json": {
              "type": "string"
            },
            "text/plain": [
              "'\"Python is very easy.\" he says.'"
            ]
          },
          "metadata": {},
          "execution_count": 52
        }
      ]
    },
    {
      "cell_type": "markdown",
      "metadata": {
        "id": "cgk90sp5d61j"
      },
      "source": [
        "#### 3. \\\\(백슬래시)를 이용해서 작은따옴표(')와 큰따옴표(\")를 문자열에 포함시키기. \n",
        "\n",
        "이를 이스케이핑(escaping)이라고 한다.\n",
        "\n",
        "이스케이핑은 일반적으로 특수한 의미가 있는 문자를 일반 문자로 만들어주는 것을 뜻한다."
      ]
    },
    {
      "cell_type": "code",
      "metadata": {
        "collapsed": true,
        "id": "_Tmw1K9cd61j"
      },
      "source": [
        "food = 'Python\\'s favorite food is perl'\n",
        "say = \"\\\"Python is very easy.\\\" he says.\""
      ],
      "execution_count": 53,
      "outputs": []
    },
    {
      "cell_type": "code",
      "metadata": {
        "colab": {
          "base_uri": "https://localhost:8080/",
          "height": 35
        },
        "id": "mIpSzpVanOcI",
        "outputId": "107c9905-a759-40c8-ca20-8a8c84549022"
      },
      "source": [
        "say"
      ],
      "execution_count": 54,
      "outputs": [
        {
          "output_type": "execute_result",
          "data": {
            "application/vnd.google.colaboratory.intrinsic+json": {
              "type": "string"
            },
            "text/plain": [
              "'\"Python is very easy.\" he says.'"
            ]
          },
          "metadata": {},
          "execution_count": 54
        }
      ]
    },
    {
      "cell_type": "markdown",
      "metadata": {
        "id": "lxrTk9ZEd61j"
      },
      "source": [
        "백슬래시(\\\\)를 작은따옴표(')나 큰따옴표(\") 앞에 삽입하면 \\(백슬래시) 뒤의 작은따옴표(')나 큰따옴표(\")는 문자열을 둘러싸는 기호의 의미가 아니라 문자 ('), (\") 그 자체를 뜻하게 된다."
      ]
    },
    {
      "cell_type": "markdown",
      "metadata": {
        "id": "ExZHzSMyd61j"
      },
      "source": [
        "### 여러 줄인 문자열을 변수에 대입하고 싶을 때"
      ]
    },
    {
      "cell_type": "markdown",
      "metadata": {
        "id": "G8fa7bqnd61k"
      },
      "source": [
        "문자열이 항상 한 줄짜리만 있는 것은 아니다. 다음과 같이 여러 줄의 문자열을 변수에 대입하려면 어떻게 처리해야 할까?"
      ]
    },
    {
      "cell_type": "raw",
      "metadata": {
        "id": "uTdsv1fxd61k"
      },
      "source": [
        "Life is too short\n",
        "\n",
        "You need python"
      ]
    },
    {
      "cell_type": "markdown",
      "metadata": {
        "id": "WadHWl7sd61k"
      },
      "source": [
        "#### 1. 줄을 바꾸기 위한 이스케이프 코드 \\n 삽입하기"
      ]
    },
    {
      "cell_type": "code",
      "metadata": {
        "id": "9poIr1PKe6zD"
      },
      "source": [
        "multiline = \"Life is too short\\nYou need python\""
      ],
      "execution_count": 55,
      "outputs": []
    },
    {
      "cell_type": "code",
      "metadata": {
        "collapsed": true,
        "colab": {
          "base_uri": "https://localhost:8080/"
        },
        "id": "fb4kvUCUd61k",
        "outputId": "838f6f45-9156-487c-c4cd-49675732584b"
      },
      "source": [
        "print(multiline)"
      ],
      "execution_count": 56,
      "outputs": [
        {
          "output_type": "stream",
          "name": "stdout",
          "text": [
            "Life is too short\n",
            "You need python\n"
          ]
        }
      ]
    },
    {
      "cell_type": "markdown",
      "metadata": {
        "id": "eU6drDz9d61l"
      },
      "source": [
        "#### 2. 연속된 작은따옴표 3개(''') 또는 큰따옴표 3개(\"\"\") 이용"
      ]
    },
    {
      "cell_type": "code",
      "metadata": {
        "collapsed": true,
        "id": "KadW8wFSd61l"
      },
      "source": [
        "multiline = '''\n",
        "Life is too short\n",
        "You need python\n",
        "'''"
      ],
      "execution_count": 57,
      "outputs": []
    },
    {
      "cell_type": "code",
      "metadata": {
        "collapsed": true,
        "colab": {
          "base_uri": "https://localhost:8080/"
        },
        "id": "yEDp9bVRd61l",
        "outputId": "88f8eec5-f9e3-4b8c-97ad-2915dbe75a56"
      },
      "source": [
        "print(multiline)"
      ],
      "execution_count": 58,
      "outputs": [
        {
          "output_type": "stream",
          "name": "stdout",
          "text": [
            "\n",
            "Life is too short\n",
            "You need python\n",
            "\n"
          ]
        }
      ]
    },
    {
      "cell_type": "markdown",
      "metadata": {
        "id": "4fsVMAJAd61l"
      },
      "source": [
        "## 문자열 연산하기"
      ]
    },
    {
      "cell_type": "markdown",
      "metadata": {
        "id": "JdV_uDuzd61m"
      },
      "source": [
        "파이썬에서는 문자열을 더하거나 곱할 수 있다."
      ]
    },
    {
      "cell_type": "markdown",
      "metadata": {
        "id": "iW9mKOkEd61m"
      },
      "source": [
        "#### 1. 문자열 더해서 연결하기(Concatenation)"
      ]
    },
    {
      "cell_type": "code",
      "metadata": {
        "collapsed": true,
        "colab": {
          "base_uri": "https://localhost:8080/",
          "height": 35
        },
        "id": "emI0hJdfd61m",
        "outputId": "6bdbb1a6-4fd9-4935-de94-9aa3384161af"
      },
      "source": [
        "head = \"Python\"\n",
        "tail = \" is fun!\"\n",
        "head + tail"
      ],
      "execution_count": 59,
      "outputs": [
        {
          "output_type": "execute_result",
          "data": {
            "application/vnd.google.colaboratory.intrinsic+json": {
              "type": "string"
            },
            "text/plain": [
              "'Python is fun!'"
            ]
          },
          "metadata": {},
          "execution_count": 59
        }
      ]
    },
    {
      "cell_type": "markdown",
      "metadata": {
        "id": "a-XqQY4md61m"
      },
      "source": [
        "#### 2. 문자열 곱하기"
      ]
    },
    {
      "cell_type": "code",
      "metadata": {
        "collapsed": true,
        "colab": {
          "base_uri": "https://localhost:8080/",
          "height": 35
        },
        "id": "jZN4lsKbd61m",
        "outputId": "d894569c-eee8-4519-892a-f9d9def0ac6f"
      },
      "source": [
        "a = \"python\"\n",
        "a * 2"
      ],
      "execution_count": 60,
      "outputs": [
        {
          "output_type": "execute_result",
          "data": {
            "application/vnd.google.colaboratory.intrinsic+json": {
              "type": "string"
            },
            "text/plain": [
              "'pythonpython'"
            ]
          },
          "metadata": {},
          "execution_count": 60
        }
      ]
    },
    {
      "cell_type": "markdown",
      "metadata": {
        "id": "d48_oxuNd61m"
      },
      "source": [
        "#### 3. 문자열 곱하기 응용"
      ]
    },
    {
      "cell_type": "code",
      "metadata": {
        "collapsed": true,
        "colab": {
          "base_uri": "https://localhost:8080/"
        },
        "id": "1A2rKfGSd61n",
        "outputId": "3b28d9ac-ed9c-45b5-ec8c-41f54a7c1c7f"
      },
      "source": [
        "print(\"=\" * 50)\n",
        "print(\"My Program\")\n",
        "print(\"=\" * 50)"
      ],
      "execution_count": 62,
      "outputs": [
        {
          "output_type": "stream",
          "name": "stdout",
          "text": [
            "==================================================\n",
            "My Program\n",
            "==================================================\n"
          ]
        }
      ]
    },
    {
      "cell_type": "markdown",
      "metadata": {
        "id": "kGwwdagDd61n"
      },
      "source": [
        "## 문자열 인덱싱과 슬라이싱"
      ]
    },
    {
      "cell_type": "markdown",
      "metadata": {
        "id": "jFDenyKQd61n"
      },
      "source": [
        "인덱싱(Indexing)이란 무엇인가를 \"가리킨다\"는 의미이고, 슬라이싱(Slicing)은 무엇인가를 \"잘라낸다\"는 의미이다. "
      ]
    },
    {
      "cell_type": "code",
      "metadata": {
        "collapsed": true,
        "id": "F3H7woKzd61n"
      },
      "source": [
        "a = \"Life is too short, You need Python\""
      ],
      "execution_count": 63,
      "outputs": []
    },
    {
      "cell_type": "code",
      "metadata": {
        "collapsed": true,
        "colab": {
          "base_uri": "https://localhost:8080/",
          "height": 35
        },
        "id": "ZRzBaj4od61n",
        "outputId": "68056f8c-85d1-476c-bcee-007208bdffe0"
      },
      "source": [
        "a[3]"
      ],
      "execution_count": 64,
      "outputs": [
        {
          "output_type": "execute_result",
          "data": {
            "application/vnd.google.colaboratory.intrinsic+json": {
              "type": "string"
            },
            "text/plain": [
              "'e'"
            ]
          },
          "metadata": {},
          "execution_count": 64
        }
      ]
    },
    {
      "cell_type": "markdown",
      "metadata": {
        "id": "PKWcVr1md61n"
      },
      "source": [
        "a[3]이 왜 f가 아니라 e인 것일까? 파이썬에서는 다음 명제를 반드시 명심하자."
      ]
    },
    {
      "cell_type": "markdown",
      "metadata": {
        "id": "LCdV9hRNd61o"
      },
      "source": [
        "**숫자는 0부터 시작한다.**"
      ]
    },
    {
      "cell_type": "markdown",
      "metadata": {
        "id": "lm40Oa0Rd61o"
      },
      "source": [
        "따라서 a[0]은 L이고, a[2]는 f이다."
      ]
    },
    {
      "cell_type": "markdown",
      "metadata": {
        "id": "BQwes6yMd61o"
      },
      "source": [
        "### 문자열 인덱싱 활용하기"
      ]
    },
    {
      "cell_type": "code",
      "metadata": {
        "collapsed": true,
        "id": "BU036qsfd61o"
      },
      "source": [
        "a = \"Life is too short, You need Python\""
      ],
      "execution_count": 65,
      "outputs": []
    },
    {
      "cell_type": "code",
      "metadata": {
        "collapsed": true,
        "colab": {
          "base_uri": "https://localhost:8080/",
          "height": 35
        },
        "id": "owEKcOE9d61o",
        "outputId": "7a3505c0-2b6d-4da6-e536-71ac18253a9d"
      },
      "source": [
        "a[0]"
      ],
      "execution_count": 66,
      "outputs": [
        {
          "output_type": "execute_result",
          "data": {
            "application/vnd.google.colaboratory.intrinsic+json": {
              "type": "string"
            },
            "text/plain": [
              "'L'"
            ]
          },
          "metadata": {},
          "execution_count": 66
        }
      ]
    },
    {
      "cell_type": "code",
      "metadata": {
        "collapsed": true,
        "colab": {
          "base_uri": "https://localhost:8080/",
          "height": 35
        },
        "id": "iaTLBa7Td61p",
        "outputId": "9d67cfb9-d96d-4770-d27c-14d046934719"
      },
      "source": [
        "a[12]"
      ],
      "execution_count": 67,
      "outputs": [
        {
          "output_type": "execute_result",
          "data": {
            "application/vnd.google.colaboratory.intrinsic+json": {
              "type": "string"
            },
            "text/plain": [
              "'s'"
            ]
          },
          "metadata": {},
          "execution_count": 67
        }
      ]
    },
    {
      "cell_type": "code",
      "metadata": {
        "collapsed": true,
        "id": "S1WkumS4d61p",
        "colab": {
          "base_uri": "https://localhost:8080/",
          "height": 35
        },
        "outputId": "58d19784-828a-45ef-eb90-6c0cb278be5d"
      },
      "source": [
        "a[-1]"
      ],
      "execution_count": 68,
      "outputs": [
        {
          "output_type": "execute_result",
          "data": {
            "application/vnd.google.colaboratory.intrinsic+json": {
              "type": "string"
            },
            "text/plain": [
              "'n'"
            ]
          },
          "metadata": {},
          "execution_count": 68
        }
      ]
    },
    {
      "cell_type": "markdown",
      "metadata": {
        "id": "3ryuDIwGd61p"
      },
      "source": [
        "마지막의 a[-1]이 뜻하는 것은 뭘까? 마이너스(-) 기호는 문자열을 뒤에서부터 읽으라는 뜻이다. 즉 a[-1]은 뒤에서부터 세어 첫 번째가 되는 문자를 말한다. 뒤에서부터 첫 번째 문자는 가장 마지막 문자인 'n'이다."
      ]
    },
    {
      "cell_type": "code",
      "metadata": {
        "collapsed": true,
        "colab": {
          "base_uri": "https://localhost:8080/",
          "height": 35
        },
        "id": "fIHhm1tud61p",
        "outputId": "18e8cae0-18e5-4a86-9221-9d8c9ed4b047"
      },
      "source": [
        "a[-2]"
      ],
      "execution_count": 69,
      "outputs": [
        {
          "output_type": "execute_result",
          "data": {
            "application/vnd.google.colaboratory.intrinsic+json": {
              "type": "string"
            },
            "text/plain": [
              "'o'"
            ]
          },
          "metadata": {},
          "execution_count": 69
        }
      ]
    },
    {
      "cell_type": "code",
      "metadata": {
        "collapsed": true,
        "colab": {
          "base_uri": "https://localhost:8080/",
          "height": 35
        },
        "id": "DHWvJNfRd61p",
        "outputId": "3dd85c2b-4544-4a65-ae72-4b7fb2ece4bc"
      },
      "source": [
        "a[-5]"
      ],
      "execution_count": 70,
      "outputs": [
        {
          "output_type": "execute_result",
          "data": {
            "application/vnd.google.colaboratory.intrinsic+json": {
              "type": "string"
            },
            "text/plain": [
              "'y'"
            ]
          },
          "metadata": {},
          "execution_count": 70
        }
      ]
    },
    {
      "cell_type": "markdown",
      "metadata": {
        "id": "GkoPhXt5d61p"
      },
      "source": [
        "### 문자열 슬라이싱이란?"
      ]
    },
    {
      "cell_type": "code",
      "metadata": {
        "collapsed": true,
        "id": "o8l7dkUkd61p"
      },
      "source": [
        "a = \"Life is too short, You need Python\""
      ],
      "execution_count": 9,
      "outputs": []
    },
    {
      "cell_type": "code",
      "metadata": {
        "collapsed": true,
        "colab": {
          "base_uri": "https://localhost:8080/",
          "height": 35
        },
        "id": "BNEx0t4fd61q",
        "outputId": "8de2764c-d733-4da5-dac1-3c0838daba38"
      },
      "source": [
        "b = a[0] + a[1] + a[2] + a[3]\n",
        "b"
      ],
      "execution_count": 71,
      "outputs": [
        {
          "output_type": "execute_result",
          "data": {
            "application/vnd.google.colaboratory.intrinsic+json": {
              "type": "string"
            },
            "text/plain": [
              "'Life'"
            ]
          },
          "metadata": {},
          "execution_count": 71
        }
      ]
    },
    {
      "cell_type": "markdown",
      "metadata": {
        "id": "jLduJgSud61q"
      },
      "source": [
        "위의 방법처럼 단순하게 접근할 수도 있지만 파이썬에서는 더 좋은 방법을 제공한다. 바로 슬라이싱(Slicing) 이라는 기법이다."
      ]
    },
    {
      "cell_type": "code",
      "metadata": {
        "collapsed": true,
        "id": "dAmRIMnGd61q",
        "colab": {
          "base_uri": "https://localhost:8080/",
          "height": 35
        },
        "outputId": "60d008b3-8ac0-44ca-c82a-82094db62290"
      },
      "source": [
        "a[0:4]"
      ],
      "execution_count": 72,
      "outputs": [
        {
          "output_type": "execute_result",
          "data": {
            "application/vnd.google.colaboratory.intrinsic+json": {
              "type": "string"
            },
            "text/plain": [
              "'Life'"
            ]
          },
          "metadata": {},
          "execution_count": 72
        }
      ]
    },
    {
      "cell_type": "markdown",
      "metadata": {
        "id": "P6cHL52Md61q"
      },
      "source": [
        "a[0:4]가 뜻하는 것은 a라는 문자열, 즉 \"Life is too short, You need Python\"이라는 문장에서 0부터 4까지의 문자를 뽑아낸다는 뜻이다. 이 때, 끝 번호에 해당하는 문자는 포함되지 않는다는 것에 주의하자."
      ]
    },
    {
      "cell_type": "markdown",
      "metadata": {
        "id": "wTOVRA6bd61q"
      },
      "source": [
        "### 문자열을 슬라이싱하는 방법"
      ]
    },
    {
      "cell_type": "code",
      "metadata": {
        "collapsed": true,
        "colab": {
          "base_uri": "https://localhost:8080/",
          "height": 35
        },
        "id": "pBcpNIbgd61r",
        "outputId": "d9614dc4-58e6-482b-f820-cfd754b2fdff"
      },
      "source": [
        "a[0:5]"
      ],
      "execution_count": 73,
      "outputs": [
        {
          "output_type": "execute_result",
          "data": {
            "application/vnd.google.colaboratory.intrinsic+json": {
              "type": "string"
            },
            "text/plain": [
              "'Life '"
            ]
          },
          "metadata": {},
          "execution_count": 73
        }
      ]
    },
    {
      "cell_type": "markdown",
      "metadata": {
        "id": "7H-w0z0wd61r"
      },
      "source": [
        "위의 예는 a[0] + a[1] + a[2] + a[3] + a[4]와 동일하다. a[4]는 공백 문자이기 때문에 'Life'가 아닌 'Life '가 출력되는 것이다. 공백 문자 역시 L, i, f, e 같은 문자와 동일하게 취급되는 것을 잊지 말자. 'Life'와 'Life '는 완전히 다른 문자열이다."
      ]
    },
    {
      "cell_type": "markdown",
      "metadata": {
        "id": "MiX9t8IKd61r"
      },
      "source": [
        "a[시작 번호:끝 번호]에서 끝 번호 부분을 생략하면 시작 번호부터 그 문자열의 끝까지 뽑아낸다."
      ]
    },
    {
      "cell_type": "code",
      "metadata": {
        "collapsed": true,
        "colab": {
          "base_uri": "https://localhost:8080/",
          "height": 35
        },
        "id": "VFU-fw-zd61r",
        "outputId": "3ee49913-bdd2-430d-dec9-52a5c864dec5"
      },
      "source": [
        "a[19:]"
      ],
      "execution_count": 74,
      "outputs": [
        {
          "output_type": "execute_result",
          "data": {
            "application/vnd.google.colaboratory.intrinsic+json": {
              "type": "string"
            },
            "text/plain": [
              "'You need Python'"
            ]
          },
          "metadata": {},
          "execution_count": 74
        }
      ]
    },
    {
      "cell_type": "markdown",
      "metadata": {
        "id": "_G-hiaajd61r"
      },
      "source": [
        "a[시작 번호:끝 번호]에서 시작 번호를 생략하면 문자열의 처음부터 끝 번호까지 뽑아낸다."
      ]
    },
    {
      "cell_type": "code",
      "metadata": {
        "collapsed": true,
        "colab": {
          "base_uri": "https://localhost:8080/",
          "height": 35
        },
        "id": "qdXUaCFod61r",
        "outputId": "1d08313c-6291-466c-8f53-c585424948f4"
      },
      "source": [
        "a[:17]"
      ],
      "execution_count": 75,
      "outputs": [
        {
          "output_type": "execute_result",
          "data": {
            "application/vnd.google.colaboratory.intrinsic+json": {
              "type": "string"
            },
            "text/plain": [
              "'Life is too short'"
            ]
          },
          "metadata": {},
          "execution_count": 75
        }
      ]
    },
    {
      "cell_type": "markdown",
      "metadata": {
        "id": "XJMQ3gCcd61s"
      },
      "source": [
        "슬라이싱에서도 인덱싱과 마찬가지로 마이너스(-) 기호를 사용할 수 있다."
      ]
    },
    {
      "cell_type": "code",
      "metadata": {
        "collapsed": true,
        "colab": {
          "base_uri": "https://localhost:8080/",
          "height": 35
        },
        "id": "SUg687nPd61s",
        "outputId": "3468a700-68cd-414d-cbe7-1b1270ae6c8e"
      },
      "source": [
        "a[19:-7]"
      ],
      "execution_count": 79,
      "outputs": [
        {
          "output_type": "execute_result",
          "data": {
            "application/vnd.google.colaboratory.intrinsic+json": {
              "type": "string"
            },
            "text/plain": [
              "'You need'"
            ]
          },
          "metadata": {},
          "execution_count": 79
        }
      ]
    },
    {
      "cell_type": "code",
      "source": [
        "a[:-6] # -6이전 공백까지"
      ],
      "metadata": {
        "colab": {
          "base_uri": "https://localhost:8080/",
          "height": 35
        },
        "id": "qPP1PZ9UcLGS",
        "outputId": "af23b25e-9cf7-44ed-f963-a8aa3947d415"
      },
      "execution_count": 81,
      "outputs": [
        {
          "output_type": "execute_result",
          "data": {
            "application/vnd.google.colaboratory.intrinsic+json": {
              "type": "string"
            },
            "text/plain": [
              "'Life is too short, You need '"
            ]
          },
          "metadata": {},
          "execution_count": 81
        }
      ]
    },
    {
      "cell_type": "markdown",
      "metadata": {
        "id": "zAze1b8rd61s"
      },
      "source": [
        "### 슬라이싱으로 문자열 나누기"
      ]
    },
    {
      "cell_type": "markdown",
      "metadata": {
        "id": "U9-IlwCed61s"
      },
      "source": [
        "다음은 자주 사용하게 되는 슬라이싱 기법 중 하나이다."
      ]
    },
    {
      "cell_type": "code",
      "metadata": {
        "collapsed": true,
        "id": "1RVRox8ld61s"
      },
      "source": [
        "a = \"20010331Rainy\""
      ],
      "execution_count": 82,
      "outputs": []
    },
    {
      "cell_type": "code",
      "metadata": {
        "collapsed": true,
        "id": "4RfKguP2d61s"
      },
      "source": [
        "date = a[:8]\n",
        "weather = a[8:]"
      ],
      "execution_count": 83,
      "outputs": []
    },
    {
      "cell_type": "code",
      "metadata": {
        "collapsed": true,
        "colab": {
          "base_uri": "https://localhost:8080/",
          "height": 35
        },
        "id": "InIFkfJcd61t",
        "outputId": "acea38f6-13e4-477e-d3c8-d47fc896fa0b"
      },
      "source": [
        "date"
      ],
      "execution_count": 84,
      "outputs": [
        {
          "output_type": "execute_result",
          "data": {
            "application/vnd.google.colaboratory.intrinsic+json": {
              "type": "string"
            },
            "text/plain": [
              "'20010331'"
            ]
          },
          "metadata": {},
          "execution_count": 84
        }
      ]
    },
    {
      "cell_type": "code",
      "metadata": {
        "collapsed": true,
        "colab": {
          "base_uri": "https://localhost:8080/",
          "height": 35
        },
        "id": "Bb4rZVotd61t",
        "outputId": "5ff945b5-3a6f-44a4-b3c9-349406b467f0"
      },
      "source": [
        "weather"
      ],
      "execution_count": 85,
      "outputs": [
        {
          "output_type": "execute_result",
          "data": {
            "application/vnd.google.colaboratory.intrinsic+json": {
              "type": "string"
            },
            "text/plain": [
              "'Rainy'"
            ]
          },
          "metadata": {},
          "execution_count": 85
        }
      ]
    },
    {
      "cell_type": "markdown",
      "metadata": {
        "id": "qKmqOsqld61t"
      },
      "source": [
        "a라는 문자열을 두 부분으로 나누는 기법이다. 동일한 숫자 8을 기준으로 a[:8], a[8:]처럼 사용했다. a[:8]은 a[8]이 포함되지 않고, a[8:]은 a[8]을 포함하기 때문에 8을 기준으로 해서 두 부분으로 나눌 수 있는 것이다."
      ]
    },
    {
      "cell_type": "markdown",
      "metadata": {
        "id": "VnkJMKfDd61t"
      },
      "source": [
        "## 문자열 포매팅"
      ]
    },
    {
      "cell_type": "markdown",
      "metadata": {
        "id": "yZbxgtAid61t"
      },
      "source": [
        "문자열에서 또 하나 알아야 할 것으로는 문자열 포매팅(Formatting)이 있다. 이것을 공부하기에 앞서 다음과 같은 문자열을 출력하는 프로그램을 작성했다고 가정해 보자.\n",
        "\n",
        "\"현재 온도는 18도입니다.\"\n",
        "\n",
        "시간이 지나서 20도가 되면 아래와 같은 문장을 출력한다.\n",
        "\n",
        "\"현재 온도는 20도입니다\"\n",
        "\n",
        "위의 두 문자열은 모두 같은데 20이라는 숫자와 18이라는 숫자만 다르다. 이렇게 문자열 내의 특정한 값을 바꿔야 할 경우가 있을 때 이것을 가능하게 해주는 것이 바로 문자열 포매팅 기법이다.\n",
        "\n",
        "문자열 포매팅이란 쉽게 말해 문자열 내에 어떤 값을 삽입하는 방법이다."
      ]
    },
    {
      "cell_type": "markdown",
      "metadata": {
        "id": "-E3vfWzRd61t"
      },
      "source": [
        "### Old Way"
      ]
    },
    {
      "cell_type": "code",
      "metadata": {
        "colab": {
          "base_uri": "https://localhost:8080/",
          "height": 35
        },
        "id": "Z479SZbsd61t",
        "outputId": "7ee826ce-27d3-4b47-a43f-e8bbe2408145"
      },
      "source": [
        "\"I eat %d apples.\" % 3"
      ],
      "execution_count": 87,
      "outputs": [
        {
          "output_type": "execute_result",
          "data": {
            "application/vnd.google.colaboratory.intrinsic+json": {
              "type": "string"
            },
            "text/plain": [
              "'I eat 3 apples.'"
            ]
          },
          "metadata": {},
          "execution_count": 87
        }
      ]
    },
    {
      "cell_type": "markdown",
      "metadata": {
        "id": "NrHQ5yBBd61u"
      },
      "source": [
        "문자열 안에서 숫자를 넣고 싶은 자리에 %d라는 문자를 넣어 주고, 삽입할 숫자인 3은 가장 뒤에 있는 % 문자 다음에 써넣었다. 여기서 %d는 문자열 포맷 코드라고 부른다."
      ]
    },
    {
      "cell_type": "code",
      "metadata": {
        "colab": {
          "base_uri": "https://localhost:8080/",
          "height": 35
        },
        "id": "MJLulrv0d61u",
        "outputId": "cd8cf1bc-a6da-48a5-8100-aa4984e50332"
      },
      "source": [
        "\"I eat %s apples.\" % \"five\""
      ],
      "execution_count": 88,
      "outputs": [
        {
          "output_type": "execute_result",
          "data": {
            "application/vnd.google.colaboratory.intrinsic+json": {
              "type": "string"
            },
            "text/plain": [
              "'I eat five apples.'"
            ]
          },
          "metadata": {},
          "execution_count": 88
        }
      ]
    },
    {
      "cell_type": "markdown",
      "metadata": {
        "id": "NpmUI6NHd61u"
      },
      "source": [
        "위 예제에서는 문자열 내에 또 다른 문자열을 삽입하기 위해 앞서 사용했던 문자열 포맷 코드 %d 가 아닌 %s를 썼다. 숫자를 넣기 위해서는 %d를 써야 하고, 문자열을 넣기 위해서는 %s를 써야 한다."
      ]
    },
    {
      "cell_type": "code",
      "metadata": {
        "id": "unWZ7Omld61v"
      },
      "source": [
        "number = 10\n",
        "day = \"three\" \n",
        "sentence = \"I ate %d apples. so I was sick for %s days.\""
      ],
      "execution_count": 89,
      "outputs": []
    },
    {
      "cell_type": "code",
      "metadata": {
        "collapsed": true,
        "colab": {
          "base_uri": "https://localhost:8080/",
          "height": 35
        },
        "id": "OHs2l51dd61v",
        "outputId": "45d6495d-8d39-41da-885b-89fe7529b702"
      },
      "source": [
        "sentence % (number, day)"
      ],
      "execution_count": 90,
      "outputs": [
        {
          "output_type": "execute_result",
          "data": {
            "application/vnd.google.colaboratory.intrinsic+json": {
              "type": "string"
            },
            "text/plain": [
              "'I ate 10 apples. so I was sick for three days.'"
            ]
          },
          "metadata": {},
          "execution_count": 90
        }
      ]
    },
    {
      "cell_type": "markdown",
      "metadata": {
        "id": "GuGBO48Yd61v"
      },
      "source": [
        "### New Way"
      ]
    },
    {
      "cell_type": "markdown",
      "metadata": {
        "id": "l2kB1Bqfd61v"
      },
      "source": [
        "다음 방법은 더 직관적이고 간결해서 파이썬에서 권장하는 방법이다.\n",
        "\n",
        "- 데이터타입을 구분하지않는다\n",
        "- 요즘 많이사용하는 방법!\n"
      ]
    },
    {
      "cell_type": "code",
      "metadata": {
        "colab": {
          "base_uri": "https://localhost:8080/",
          "height": 35
        },
        "id": "cWeuekSjd61v",
        "outputId": "c1c65fa4-7ccb-4206-b3f5-f221140b353e"
      },
      "source": [
        "\"I eat {0} apples\".format(3)"
      ],
      "execution_count": 91,
      "outputs": [
        {
          "output_type": "execute_result",
          "data": {
            "application/vnd.google.colaboratory.intrinsic+json": {
              "type": "string"
            },
            "text/plain": [
              "'I eat 3 apples'"
            ]
          },
          "metadata": {},
          "execution_count": 91
        }
      ]
    },
    {
      "cell_type": "code",
      "metadata": {
        "scrolled": true,
        "colab": {
          "base_uri": "https://localhost:8080/",
          "height": 35
        },
        "id": "oVGZtue8d61v",
        "outputId": "b5fb19d8-9170-45cd-f2ba-24b28bf5a2b2"
      },
      "source": [
        "\"I eat {0} apples\".format(\"five\")"
      ],
      "execution_count": 92,
      "outputs": [
        {
          "output_type": "execute_result",
          "data": {
            "application/vnd.google.colaboratory.intrinsic+json": {
              "type": "string"
            },
            "text/plain": [
              "'I eat five apples'"
            ]
          },
          "metadata": {},
          "execution_count": 92
        }
      ]
    },
    {
      "cell_type": "code",
      "metadata": {
        "colab": {
          "base_uri": "https://localhost:8080/",
          "height": 35
        },
        "id": "n--a_nhBd61w",
        "outputId": "87ad5f62-91b4-4cfd-9dc8-9dcd8ce328ba"
      },
      "source": [
        "\"I eat {} apples\".format(\"five\")"
      ],
      "execution_count": 93,
      "outputs": [
        {
          "output_type": "execute_result",
          "data": {
            "application/vnd.google.colaboratory.intrinsic+json": {
              "type": "string"
            },
            "text/plain": [
              "'I eat five apples'"
            ]
          },
          "metadata": {},
          "execution_count": 93
        }
      ]
    },
    {
      "cell_type": "code",
      "metadata": {
        "colab": {
          "base_uri": "https://localhost:8080/",
          "height": 35
        },
        "id": "4LiqfJuAd61w",
        "outputId": "48a263e2-3f6b-44d5-b40f-b2254a8e0aca"
      },
      "source": [
        "number = 10\n",
        "day = \"three\"\n",
        "\"I ate {0} apples. so I was sick for {1} days.\".format(number, day)"
      ],
      "execution_count": 94,
      "outputs": [
        {
          "output_type": "execute_result",
          "data": {
            "application/vnd.google.colaboratory.intrinsic+json": {
              "type": "string"
            },
            "text/plain": [
              "'I ate 10 apples. so I was sick for three days.'"
            ]
          },
          "metadata": {},
          "execution_count": 94
        }
      ]
    },
    {
      "cell_type": "code",
      "metadata": {
        "collapsed": true,
        "colab": {
          "base_uri": "https://localhost:8080/",
          "height": 35
        },
        "id": "odMGe44_d61w",
        "outputId": "9940ee3f-d6ff-45c2-ab97-8a8e9fe9d199"
      },
      "source": [
        "\"I ate {number} apples. so I was sick for {day} days.\".format(number=10, day=3)"
      ],
      "execution_count": 95,
      "outputs": [
        {
          "output_type": "execute_result",
          "data": {
            "application/vnd.google.colaboratory.intrinsic+json": {
              "type": "string"
            },
            "text/plain": [
              "'I ate 10 apples. so I was sick for 3 days.'"
            ]
          },
          "metadata": {},
          "execution_count": 95
        }
      ]
    },
    {
      "cell_type": "markdown",
      "metadata": {
        "id": "rEQDwM0Vd61w"
      },
      "source": [
        "## 문자열 관련 함수들"
      ]
    },
    {
      "cell_type": "markdown",
      "metadata": {
        "id": "8GrhOU2xd61w"
      },
      "source": [
        "문자열 자료형에는 자체적으로 가지고 있는 유용한 함수들이 몇 개 있다. 그것들을 사용하려면 문자열 변수 이름 뒤에 '.'를 붙인 다음에 함수 이름을 써주면 된다."
      ]
    },
    {
      "cell_type": "markdown",
      "metadata": {
        "id": "4xo5em4Nd61w"
      },
      "source": [
        "#### 양쪽 공백 지우기(strip)"
      ]
    },
    {
      "cell_type": "code",
      "metadata": {
        "collapsed": true,
        "id": "jRN-IpLqd61x"
      },
      "source": [
        "a = \" hi \""
      ],
      "execution_count": 96,
      "outputs": []
    },
    {
      "cell_type": "code",
      "metadata": {
        "collapsed": true,
        "colab": {
          "base_uri": "https://localhost:8080/",
          "height": 35
        },
        "id": "WlEMV30sd61x",
        "outputId": "ae89d612-4d43-4d71-a3b8-0f7a5477d16d"
      },
      "source": [
        "a.strip()"
      ],
      "execution_count": 97,
      "outputs": [
        {
          "output_type": "execute_result",
          "data": {
            "application/vnd.google.colaboratory.intrinsic+json": {
              "type": "string"
            },
            "text/plain": [
              "'hi'"
            ]
          },
          "metadata": {},
          "execution_count": 97
        }
      ]
    },
    {
      "cell_type": "markdown",
      "metadata": {
        "id": "0E6f5Sfdd61x"
      },
      "source": [
        "#### 문자열 나누기(split)"
      ]
    },
    {
      "cell_type": "code",
      "metadata": {
        "collapsed": true,
        "id": "xyCrigCyd61x"
      },
      "source": [
        "a = \"Life is too short\""
      ],
      "execution_count": 98,
      "outputs": []
    },
    {
      "cell_type": "code",
      "metadata": {
        "collapsed": true,
        "colab": {
          "base_uri": "https://localhost:8080/"
        },
        "id": "_V2qFSyMd61x",
        "outputId": "a9bd505f-7112-464b-933b-d2a684b4a733"
      },
      "source": [
        "a.split()"
      ],
      "execution_count": 99,
      "outputs": [
        {
          "output_type": "execute_result",
          "data": {
            "text/plain": [
              "['Life', 'is', 'too', 'short']"
            ]
          },
          "metadata": {},
          "execution_count": 99
        }
      ]
    },
    {
      "cell_type": "code",
      "metadata": {
        "collapsed": true,
        "id": "K1MLhY0ud61x"
      },
      "source": [
        "a = \"a:b:c:d\""
      ],
      "execution_count": 100,
      "outputs": []
    },
    {
      "cell_type": "code",
      "metadata": {
        "collapsed": true,
        "colab": {
          "base_uri": "https://localhost:8080/"
        },
        "id": "UUEnlI7vd61y",
        "outputId": "480ad384-0357-4377-b49e-f6675508e6b7"
      },
      "source": [
        "a.split(':')"
      ],
      "execution_count": 101,
      "outputs": [
        {
          "output_type": "execute_result",
          "data": {
            "text/plain": [
              "['a', 'b', 'c', 'd']"
            ]
          },
          "metadata": {},
          "execution_count": 101
        }
      ]
    },
    {
      "cell_type": "markdown",
      "metadata": {
        "id": "E-vmqXzad61y"
      },
      "source": [
        "a.split()처럼 괄호 안에 아무런 값도 넣어 주지 않으면 공백을 기준으로 문자열을 나누어 준다. 만약 a.split(':')처럼 괄호 안에 특정한 값이 있을 경우에는 괄호 안의 값을 구분자로 해서 문자열을 나누어 준다."
      ]
    },
    {
      "cell_type": "markdown",
      "metadata": {
        "id": "r6gOsmord61y"
      },
      "source": [
        "# 3. 리스트 자료형"
      ]
    },
    {
      "cell_type": "markdown",
      "metadata": {
        "id": "ewzGxmAbd61y"
      },
      "source": [
        "지금까지 우리는 숫자와 문자열에 대해서 알아보았다. 하지만 숫자와 문자열만으로 프로그래밍을 하기엔 부족한 점이 많다. 예를 들어 1부터 10까지의 숫자 중 홀수 모음인 1, 3, 5, 7, 9라는 집합을 생각해 보자. 이런 숫자 모음을 숫자나 문자열로 표현하기는 쉽지 않다. 파이썬에는 이러한 불편함을 해소할 수 있는 자료형이 존재한다. 그것이 바로 이 절에서 공부하게될 리스트(List)이다."
      ]
    },
    {
      "cell_type": "markdown",
      "metadata": {
        "id": "ofuXyQPjd61y"
      },
      "source": [
        "## 리스트는 어떻게 만들고 사용할까?"
      ]
    },
    {
      "cell_type": "code",
      "metadata": {
        "collapsed": true,
        "id": "P4buLfJNd61y"
      },
      "source": [
        "odd = [1, 3, 5, 7, 9]"
      ],
      "execution_count": null,
      "outputs": []
    },
    {
      "cell_type": "code",
      "metadata": {
        "colab": {
          "base_uri": "https://localhost:8080/"
        },
        "id": "pDYjPuv3tmt3",
        "outputId": "097dc056-be61-43f6-f0b1-ca4478aadf26"
      },
      "source": [
        "odd"
      ],
      "execution_count": null,
      "outputs": [
        {
          "output_type": "execute_result",
          "data": {
            "text/plain": [
              "[1, 3, 5, 7, 9]"
            ]
          },
          "metadata": {},
          "execution_count": 62
        }
      ]
    },
    {
      "cell_type": "markdown",
      "metadata": {
        "id": "Jl9SngDpd61z"
      },
      "source": [
        "리스트를 만들 때는 위에서 보는 것과 같이 대괄호([ ])로 감싸 주고 각 요소값들은 쉼표(,)로 구분해 준다."
      ]
    },
    {
      "cell_type": "markdown",
      "metadata": {
        "id": "_usqIVlcd61z"
      },
      "source": [
        "여러 가지 리스트의 생김새를 살펴보면 다음과 같다."
      ]
    },
    {
      "cell_type": "code",
      "metadata": {
        "collapsed": true,
        "id": "2I-_S7N2d61z"
      },
      "source": [
        "a = [ ]\n",
        "b = [1, 2, 3]\n",
        "c = ['Life', 'is', 'too', 'short']\n",
        "d = [1, 2, 'Life', 'is']\n",
        "e = [1, 2, ['Life', 'is']]"
      ],
      "execution_count": null,
      "outputs": []
    },
    {
      "cell_type": "markdown",
      "metadata": {
        "id": "YdJ2-SWvd610"
      },
      "source": [
        "## 리스트의 인덱싱과 슬라이싱"
      ]
    },
    {
      "cell_type": "markdown",
      "metadata": {
        "id": "ROCewEsKd610"
      },
      "source": [
        "리스트도 문자열처럼 인덱싱과 슬라이싱이 가능하다."
      ]
    },
    {
      "cell_type": "markdown",
      "metadata": {
        "id": "u33ptTnHd611"
      },
      "source": [
        "### 리스트의 인덱싱"
      ]
    },
    {
      "cell_type": "code",
      "metadata": {
        "collapsed": true,
        "id": "9m5TIb2ld611"
      },
      "source": [
        "a = [1, 2, 3]"
      ],
      "execution_count": null,
      "outputs": []
    },
    {
      "cell_type": "code",
      "metadata": {
        "collapsed": true,
        "colab": {
          "base_uri": "https://localhost:8080/"
        },
        "id": "Lm2PUW2gd612",
        "outputId": "af6c320e-de84-4e34-9187-b7c3197901e2"
      },
      "source": [
        "a[0]"
      ],
      "execution_count": null,
      "outputs": [
        {
          "output_type": "execute_result",
          "data": {
            "text/plain": [
              "1"
            ]
          },
          "metadata": {},
          "execution_count": 64
        }
      ]
    },
    {
      "cell_type": "code",
      "metadata": {
        "collapsed": true,
        "colab": {
          "base_uri": "https://localhost:8080/"
        },
        "id": "tNBUy_ezd612",
        "outputId": "9903780a-0a6d-4117-f69c-d4d0ff804c1e"
      },
      "source": [
        "a[0] + a[2]"
      ],
      "execution_count": null,
      "outputs": [
        {
          "output_type": "execute_result",
          "data": {
            "text/plain": [
              "4"
            ]
          },
          "metadata": {},
          "execution_count": 65
        }
      ]
    },
    {
      "cell_type": "markdown",
      "metadata": {
        "id": "jMvk6Oyid612"
      },
      "source": [
        "이것은 1 + 3으로 해석되어 4라는 값을 출력한다."
      ]
    },
    {
      "cell_type": "code",
      "metadata": {
        "collapsed": true,
        "colab": {
          "base_uri": "https://localhost:8080/"
        },
        "id": "ohi_cJaAd613",
        "outputId": "de9bfe7c-73fe-4a83-d34d-efae96d89e01"
      },
      "source": [
        "a[-1]"
      ],
      "execution_count": null,
      "outputs": [
        {
          "output_type": "execute_result",
          "data": {
            "text/plain": [
              "3"
            ]
          },
          "metadata": {},
          "execution_count": 66
        }
      ]
    },
    {
      "cell_type": "markdown",
      "metadata": {
        "id": "MF8lJ7I2d613"
      },
      "source": [
        "### 리스트의 슬라이싱"
      ]
    },
    {
      "cell_type": "code",
      "metadata": {
        "collapsed": true,
        "colab": {
          "base_uri": "https://localhost:8080/"
        },
        "id": "VHNbJenid613",
        "outputId": "b1ca28a1-3ef6-4f00-cc2c-444e43cb94bd"
      },
      "source": [
        "a = [1, 2, 3, 4, 5]\n",
        "a[0:2]"
      ],
      "execution_count": null,
      "outputs": [
        {
          "output_type": "execute_result",
          "data": {
            "text/plain": [
              "[1, 2]"
            ]
          },
          "metadata": {},
          "execution_count": 67
        }
      ]
    },
    {
      "cell_type": "code",
      "metadata": {
        "collapsed": true,
        "id": "JJW9rntVd613",
        "colab": {
          "base_uri": "https://localhost:8080/"
        },
        "outputId": "5bb8ffe4-a23e-4a42-d415-f11180d67eb0"
      },
      "source": [
        "a[2:]"
      ],
      "execution_count": null,
      "outputs": [
        {
          "output_type": "execute_result",
          "data": {
            "text/plain": [
              "[3, 4, 5]"
            ]
          },
          "metadata": {},
          "execution_count": 68
        }
      ]
    },
    {
      "cell_type": "markdown",
      "metadata": {
        "id": "j6uAC3XTd613"
      },
      "source": [
        "## 리스트 연산자"
      ]
    },
    {
      "cell_type": "markdown",
      "metadata": {
        "id": "3AC7NcpDd613"
      },
      "source": [
        "### 리스트 더하기(+)"
      ]
    },
    {
      "cell_type": "code",
      "metadata": {
        "collapsed": true,
        "id": "63uIz2F9d614"
      },
      "source": [
        "a = [1, 2, 3]\n",
        "b = [4, 5, 6]"
      ],
      "execution_count": null,
      "outputs": []
    },
    {
      "cell_type": "code",
      "metadata": {
        "collapsed": true,
        "colab": {
          "base_uri": "https://localhost:8080/"
        },
        "id": "_swlQGmhd614",
        "outputId": "a7a57264-4517-4553-ebf7-045096da675f"
      },
      "source": [
        "a + b"
      ],
      "execution_count": null,
      "outputs": [
        {
          "output_type": "execute_result",
          "data": {
            "text/plain": [
              "[1, 2, 3, 4, 5, 6]"
            ]
          },
          "metadata": {},
          "execution_count": 70
        }
      ]
    },
    {
      "cell_type": "markdown",
      "metadata": {
        "id": "xvQm28WAd614"
      },
      "source": [
        "### 리스트 반복하기(*)"
      ]
    },
    {
      "cell_type": "code",
      "metadata": {
        "collapsed": true,
        "id": "oMu07FeSd614"
      },
      "source": [
        "a = [1, 2, 3]"
      ],
      "execution_count": null,
      "outputs": []
    },
    {
      "cell_type": "code",
      "metadata": {
        "collapsed": true,
        "colab": {
          "base_uri": "https://localhost:8080/"
        },
        "id": "FSXQlKPsd614",
        "outputId": "a5b8f2a2-cad1-4fc8-a84c-3c053aa4579f"
      },
      "source": [
        "a * 3"
      ],
      "execution_count": null,
      "outputs": [
        {
          "output_type": "execute_result",
          "data": {
            "text/plain": [
              "[1, 2, 3, 1, 2, 3, 1, 2, 3]"
            ]
          },
          "metadata": {},
          "execution_count": 72
        }
      ]
    },
    {
      "cell_type": "markdown",
      "metadata": {
        "id": "pBQGUldvd614"
      },
      "source": [
        "## 리스트의 수정, 변경과 삭제"
      ]
    },
    {
      "cell_type": "raw",
      "metadata": {
        "id": "oz1CmH7pd615"
      },
      "source": [
        "a = [1, 2, 3]\n",
        "\n",
        "a[2] = 4\n",
        "\n",
        "a"
      ]
    },
    {
      "cell_type": "code",
      "metadata": {
        "collapsed": true,
        "id": "v37ewhSGd615",
        "colab": {
          "base_uri": "https://localhost:8080/"
        },
        "outputId": "7f2031c2-07c3-452b-f6c2-172e97ad127d"
      },
      "source": [
        "a = [1, 2, 3]\n",
        "a[2] = 4\n",
        "a"
      ],
      "execution_count": null,
      "outputs": [
        {
          "output_type": "execute_result",
          "data": {
            "text/plain": [
              "[1, 2, 4]"
            ]
          },
          "metadata": {},
          "execution_count": 74
        }
      ]
    },
    {
      "cell_type": "markdown",
      "metadata": {
        "id": "HtSseSXMd615"
      },
      "source": [
        "a[2]의 요소값 3이 4로 바뀌었다."
      ]
    },
    {
      "cell_type": "raw",
      "metadata": {
        "id": "7-b9W5Mfd615"
      },
      "source": [
        "a = [1, 2, 3]\n",
        "\n",
        "del a[1]\n",
        "\n",
        "a"
      ]
    },
    {
      "cell_type": "code",
      "metadata": {
        "collapsed": true,
        "id": "aEfMv929d615",
        "colab": {
          "base_uri": "https://localhost:8080/"
        },
        "outputId": "f891e2e1-dc4d-4ff9-b92a-f4e6305391fc"
      },
      "source": [
        "a = [1, 2, 3]\n",
        "del a[1]\n",
        "a"
      ],
      "execution_count": null,
      "outputs": [
        {
          "output_type": "execute_result",
          "data": {
            "text/plain": [
              "[1, 3]"
            ]
          },
          "metadata": {},
          "execution_count": 75
        }
      ]
    },
    {
      "cell_type": "markdown",
      "metadata": {
        "id": "hPa8SV2dd615"
      },
      "source": [
        "## 리스트 관련 함수들"
      ]
    },
    {
      "cell_type": "markdown",
      "metadata": {
        "id": "WObe2iVfd615"
      },
      "source": [
        "문자열과 마찬가지로 리스트 변수명 뒤에 '.'를 붙여서 여러 가지 리스트 관련 함수들을 이용할 수 있다."
      ]
    },
    {
      "cell_type": "markdown",
      "metadata": {
        "id": "WcqDvodDd615"
      },
      "source": [
        "### 리스트에 요소 추가(append)"
      ]
    },
    {
      "cell_type": "markdown",
      "metadata": {
        "id": "qwUDVWzld616"
      },
      "source": [
        "append(x)는 리스트의 맨 마지막에 x를 추가시키는 함수이다."
      ]
    },
    {
      "cell_type": "raw",
      "metadata": {
        "id": "Xf-ElXuNd616"
      },
      "source": [
        "a = [1, 2, 3]\n",
        "\n",
        "a.append(4)\n",
        "\n",
        "a"
      ]
    },
    {
      "cell_type": "code",
      "metadata": {
        "collapsed": true,
        "id": "-8EyXt5Md616",
        "colab": {
          "base_uri": "https://localhost:8080/"
        },
        "outputId": "581bd19d-01c1-49c0-a962-1230dcffd2de"
      },
      "source": [
        "a = [1,2,3]\n",
        "a.append(4)\n",
        "a"
      ],
      "execution_count": null,
      "outputs": [
        {
          "output_type": "execute_result",
          "data": {
            "text/plain": [
              "[1, 2, 3, 4]"
            ]
          },
          "metadata": {},
          "execution_count": 76
        }
      ]
    },
    {
      "cell_type": "markdown",
      "metadata": {
        "id": "bq6Uqmznd616"
      },
      "source": [
        "### 리스트에 요소 삽입(insert)"
      ]
    },
    {
      "cell_type": "markdown",
      "metadata": {
        "id": "hP6d-vfJd616"
      },
      "source": [
        "insert(a, b)는 리스트의 a번째 위치에 b를 삽입하는 함수이다. 파이썬에서는 숫자를 0부터 센다는 것을 반드시 기억하자."
      ]
    },
    {
      "cell_type": "raw",
      "metadata": {
        "id": "aAm_PyUpd616"
      },
      "source": [
        "a = [1, 2, 3]\n",
        "\n",
        "a.insert(0, 4)\n",
        "\n",
        "a"
      ]
    },
    {
      "cell_type": "code",
      "metadata": {
        "collapsed": true,
        "id": "NrBm0WnHd616",
        "colab": {
          "base_uri": "https://localhost:8080/"
        },
        "outputId": "836b1cce-1813-4bfc-9d5e-d88d8d3938e0"
      },
      "source": [
        "a = [1,2,3]\n",
        "a.insert(0, 4)\n",
        "a"
      ],
      "execution_count": null,
      "outputs": [
        {
          "output_type": "execute_result",
          "data": {
            "text/plain": [
              "[4, 1, 2, 3]"
            ]
          },
          "metadata": {},
          "execution_count": 77
        }
      ]
    },
    {
      "cell_type": "markdown",
      "metadata": {
        "id": "8YsYJrNyd616"
      },
      "source": [
        "### 리스트 요소 끄집어내기(pop)"
      ]
    },
    {
      "cell_type": "markdown",
      "metadata": {
        "id": "pW66IstMd616"
      },
      "source": [
        "pop()은 리스트의 맨 마지막 요소를 돌려 주고 그 요소는 삭제하는 함수이다."
      ]
    },
    {
      "cell_type": "raw",
      "metadata": {
        "id": "utfscbj9d617"
      },
      "source": [
        "a = [1, 2, 3]\n",
        "\n",
        "a.pop()"
      ]
    },
    {
      "cell_type": "code",
      "metadata": {
        "collapsed": true,
        "id": "pKKyP1-Ld617",
        "colab": {
          "base_uri": "https://localhost:8080/"
        },
        "outputId": "c8ca50d6-632f-4ee4-e946-915c0a933a6b"
      },
      "source": [
        "a = [1,2,3]\n",
        "a.pop()"
      ],
      "execution_count": null,
      "outputs": [
        {
          "output_type": "execute_result",
          "data": {
            "text/plain": [
              "3"
            ]
          },
          "metadata": {},
          "execution_count": 78
        }
      ]
    },
    {
      "cell_type": "code",
      "metadata": {
        "colab": {
          "base_uri": "https://localhost:8080/"
        },
        "id": "WQiLRaFuvXBG",
        "outputId": "4ee410f2-7c19-444c-8659-3667cbd6b43d"
      },
      "source": [
        "a"
      ],
      "execution_count": null,
      "outputs": [
        {
          "output_type": "execute_result",
          "data": {
            "text/plain": [
              "[1, 2]"
            ]
          },
          "metadata": {},
          "execution_count": 79
        }
      ]
    },
    {
      "cell_type": "markdown",
      "metadata": {
        "id": "oCB4HH3Td617"
      },
      "source": [
        "# 4. 튜플 자료형"
      ]
    },
    {
      "cell_type": "markdown",
      "metadata": {
        "id": "KwThOPoBd617"
      },
      "source": [
        "## 튜플은 어떻게 만들까?"
      ]
    },
    {
      "cell_type": "markdown",
      "metadata": {
        "id": "9vpRl4dmd617"
      },
      "source": [
        "튜플(tuple)은 몇 가지 점을 제외하곤 리스트와 거의 비슷하며 리스트와 다른 점은 다음과 같다.\n",
        "\n",
        "- 리스트는 [과 ]으로 둘러싸지만 튜플은 (과 )으로 둘러싼다.\n",
        "- 리스트는 그 값의 생성, 삭제, 수정이 가능하지만 튜플은 그 값을 바꿀 수 없다."
      ]
    },
    {
      "cell_type": "markdown",
      "metadata": {
        "id": "HFpRFITnd617"
      },
      "source": [
        "튜플의 모습은 다음과 같다."
      ]
    },
    {
      "cell_type": "code",
      "metadata": {
        "collapsed": true,
        "id": "II0EpfYzd617"
      },
      "source": [
        "t1 = ()\n",
        "t2 = (1,)\n",
        "t3 = (1, 2, 3)\n",
        "t4 = 1, 2, 3\n",
        "t5 = ('a', 'b', ('ab', 'cd'))"
      ],
      "execution_count": null,
      "outputs": []
    },
    {
      "cell_type": "markdown",
      "metadata": {
        "id": "C2Wf5-Mgd617"
      },
      "source": [
        "리스트와 모습은 거의 비슷하지만 튜플에서는 리스트와 다른 2가지 차이점을 찾아볼 수 있다. t2 = (1,)처럼 단지 1개의 요소만을 가질 때는 요소 뒤에 콤마(,)를 반드시 붙여야 한다는 것과 t4 = 1, 2, 3처럼 괄호()를 생략해도 무방하다는 점이다."
      ]
    },
    {
      "cell_type": "markdown",
      "metadata": {
        "id": "UzYZF2zmd617"
      },
      "source": [
        "사실 튜플을 튜플로 만드는 것은 괄호가 아니라, 콤마이다."
      ]
    },
    {
      "cell_type": "markdown",
      "metadata": {
        "id": "XorVeUPsd618"
      },
      "source": [
        "얼핏 보면 튜플과 리스트는 비슷한 역할을 하지만 프로그래밍을 할 때 튜플과 리스트는 구분해서 사용하는 것이 유리하다. 튜플과 리스트의 가장 큰 차이는 값을 변화시킬 수 있는가 없는가이다. 즉, 리스트의 항목값은 변화가 가능하고 튜플의 항목값은 변화가 불가능하다. 따라서 프로그램이 실행되는 동안 그 값이 항상 변하지 않기를 바란다거나 값이 바뀔까 걱정하고싶지 않다면 주저하지 말고 튜플을 사용해야 한다. 이와는 반대로 수시로 그 값을 변화시켜야할 경우라면 리스트를 사용해야 한다. 실제 프로그램에서는 값이 변경되는 형태의 변수가 훨씬 많기 때문에 평균적으로 튜플보다는 리스트를 더 많이 사용하게 된다."
      ]
    },
    {
      "cell_type": "markdown",
      "metadata": {
        "id": "-i0oDF0_d618"
      },
      "source": [
        "### 튜플의 요소값을 지우거나 변경하려고 하면 어떻게 될까?"
      ]
    },
    {
      "cell_type": "code",
      "metadata": {
        "collapsed": true,
        "id": "C4IQjQJ8d618",
        "colab": {
          "base_uri": "https://localhost:8080/",
          "height": 186
        },
        "outputId": "b4fcdfd1-48fe-41bd-b7e5-89ba9278fec7"
      },
      "source": [
        "t1 = (1, 2, 'a', 'b')\n",
        "del t1[0]"
      ],
      "execution_count": null,
      "outputs": [
        {
          "output_type": "error",
          "ename": "TypeError",
          "evalue": "ignored",
          "traceback": [
            "\u001b[0;31m---------------------------------------------------------------------------\u001b[0m",
            "\u001b[0;31mTypeError\u001b[0m                                 Traceback (most recent call last)",
            "\u001b[0;32m<ipython-input-80-f66ca102cafc>\u001b[0m in \u001b[0;36m<module>\u001b[0;34m()\u001b[0m\n\u001b[1;32m      1\u001b[0m \u001b[0mt1\u001b[0m \u001b[0;34m=\u001b[0m \u001b[0;34m(\u001b[0m\u001b[0;36m1\u001b[0m\u001b[0;34m,\u001b[0m \u001b[0;36m2\u001b[0m\u001b[0;34m,\u001b[0m \u001b[0;34m'a'\u001b[0m\u001b[0;34m,\u001b[0m \u001b[0;34m'b'\u001b[0m\u001b[0;34m)\u001b[0m\u001b[0;34m\u001b[0m\u001b[0;34m\u001b[0m\u001b[0m\n\u001b[0;32m----> 2\u001b[0;31m \u001b[0;32mdel\u001b[0m \u001b[0mt1\u001b[0m\u001b[0;34m[\u001b[0m\u001b[0;36m0\u001b[0m\u001b[0;34m]\u001b[0m\u001b[0;34m\u001b[0m\u001b[0;34m\u001b[0m\u001b[0m\n\u001b[0m",
            "\u001b[0;31mTypeError\u001b[0m: 'tuple' object doesn't support item deletion"
          ]
        }
      ]
    },
    {
      "cell_type": "code",
      "metadata": {
        "collapsed": true,
        "id": "ljleoaL6d618",
        "colab": {
          "base_uri": "https://localhost:8080/",
          "height": 186
        },
        "outputId": "32889404-53fe-484a-b4ff-8e46f3a81655"
      },
      "source": [
        "t1 = (1, 2, 'a', 'b')\n",
        "t1[0] = 'c'"
      ],
      "execution_count": null,
      "outputs": [
        {
          "output_type": "error",
          "ename": "TypeError",
          "evalue": "ignored",
          "traceback": [
            "\u001b[0;31m---------------------------------------------------------------------------\u001b[0m",
            "\u001b[0;31mTypeError\u001b[0m                                 Traceback (most recent call last)",
            "\u001b[0;32m<ipython-input-81-b5ce56bb2692>\u001b[0m in \u001b[0;36m<module>\u001b[0;34m()\u001b[0m\n\u001b[1;32m      1\u001b[0m \u001b[0mt1\u001b[0m \u001b[0;34m=\u001b[0m \u001b[0;34m(\u001b[0m\u001b[0;36m1\u001b[0m\u001b[0;34m,\u001b[0m \u001b[0;36m2\u001b[0m\u001b[0;34m,\u001b[0m \u001b[0;34m'a'\u001b[0m\u001b[0;34m,\u001b[0m \u001b[0;34m'b'\u001b[0m\u001b[0;34m)\u001b[0m\u001b[0;34m\u001b[0m\u001b[0;34m\u001b[0m\u001b[0m\n\u001b[0;32m----> 2\u001b[0;31m \u001b[0mt1\u001b[0m\u001b[0;34m[\u001b[0m\u001b[0;36m0\u001b[0m\u001b[0;34m]\u001b[0m \u001b[0;34m=\u001b[0m \u001b[0;34m'c'\u001b[0m\u001b[0;34m\u001b[0m\u001b[0;34m\u001b[0m\u001b[0m\n\u001b[0m",
            "\u001b[0;31mTypeError\u001b[0m: 'tuple' object does not support item assignment"
          ]
        }
      ]
    },
    {
      "cell_type": "markdown",
      "metadata": {
        "id": "_kxHPvCrd618"
      },
      "source": [
        "## 튜플의 인덱싱과 슬라이싱, 더하기(+)와 곱하기(*)"
      ]
    },
    {
      "cell_type": "markdown",
      "metadata": {
        "id": "aosGIxYRd618"
      },
      "source": [
        "### 1. 인덱싱하기"
      ]
    },
    {
      "cell_type": "raw",
      "metadata": {
        "id": "gXpPohnyd618"
      },
      "source": [
        "t1 = (1, 2, 'a', 'b')\n",
        "\n",
        "t1[3]"
      ]
    },
    {
      "cell_type": "code",
      "metadata": {
        "collapsed": true,
        "id": "ofbi680-d618",
        "colab": {
          "base_uri": "https://localhost:8080/",
          "height": 35
        },
        "outputId": "260caf53-3446-44b9-964d-8e2f464b1003"
      },
      "source": [
        "t1 = (1, 2, 'a', 'b')\n",
        "t1[3]"
      ],
      "execution_count": null,
      "outputs": [
        {
          "output_type": "execute_result",
          "data": {
            "application/vnd.google.colaboratory.intrinsic+json": {
              "type": "string"
            },
            "text/plain": [
              "'b'"
            ]
          },
          "metadata": {},
          "execution_count": 82
        }
      ]
    },
    {
      "cell_type": "markdown",
      "metadata": {
        "id": "e3W_5vJRd618"
      },
      "source": [
        "### 2. 슬라이싱하기"
      ]
    },
    {
      "cell_type": "raw",
      "metadata": {
        "id": "FcHA6VMNd618"
      },
      "source": [
        "t1[1:]"
      ]
    },
    {
      "cell_type": "code",
      "metadata": {
        "collapsed": true,
        "id": "lfTI45qcd619",
        "colab": {
          "base_uri": "https://localhost:8080/"
        },
        "outputId": "eafe969a-74e5-4a62-bf82-7f3f529fdbe9"
      },
      "source": [
        "t1[1:]"
      ],
      "execution_count": null,
      "outputs": [
        {
          "output_type": "execute_result",
          "data": {
            "text/plain": [
              "(2, 'a', 'b')"
            ]
          },
          "metadata": {},
          "execution_count": 83
        }
      ]
    },
    {
      "cell_type": "markdown",
      "metadata": {
        "id": "Zb2hHv3yd619"
      },
      "source": [
        "### 3. 튜플 더하기"
      ]
    },
    {
      "cell_type": "raw",
      "metadata": {
        "id": "OsIPs8KXd619"
      },
      "source": [
        "t2 = (3, 4)\n",
        "\n",
        "t1 + t2"
      ]
    },
    {
      "cell_type": "code",
      "metadata": {
        "collapsed": true,
        "id": "pEbKu9agd619",
        "colab": {
          "base_uri": "https://localhost:8080/"
        },
        "outputId": "0afee0c8-cf8e-4838-a78a-59a697904f3b"
      },
      "source": [
        "t2 = (3, 4)\n",
        "t1 + t2"
      ],
      "execution_count": null,
      "outputs": [
        {
          "output_type": "execute_result",
          "data": {
            "text/plain": [
              "(1, 2, 'a', 'b', 3, 4)"
            ]
          },
          "metadata": {},
          "execution_count": 84
        }
      ]
    },
    {
      "cell_type": "markdown",
      "metadata": {
        "id": "VFuzHx70d619"
      },
      "source": [
        "### 4. 튜플 곱하기"
      ]
    },
    {
      "cell_type": "raw",
      "metadata": {
        "id": "wqpKPI7hd619"
      },
      "source": [
        "t2 * 3"
      ]
    },
    {
      "cell_type": "code",
      "metadata": {
        "collapsed": true,
        "id": "Ceipihu2d619",
        "colab": {
          "base_uri": "https://localhost:8080/"
        },
        "outputId": "9107fdc5-5501-4ebb-b076-c8ce9dd5f4f6"
      },
      "source": [
        "t2 * 3"
      ],
      "execution_count": null,
      "outputs": [
        {
          "output_type": "execute_result",
          "data": {
            "text/plain": [
              "(3, 4, 3, 4, 3, 4)"
            ]
          },
          "metadata": {},
          "execution_count": 85
        }
      ]
    },
    {
      "cell_type": "markdown",
      "metadata": {
        "id": "itLFcBWRd619"
      },
      "source": [
        "# 5. 딕셔너리 자료형"
      ]
    },
    {
      "cell_type": "markdown",
      "metadata": {
        "id": "N0wwKychd619"
      },
      "source": [
        "딕셔너리(Dictionary)를 단어 그대로 해석하면 사전이라는 뜻이다. 즉, people이라는 단어에 \"사람\", baseball이라는 단어에 \"야구\"라는 뜻이 부합되듯이 딕셔너리는 Key와 Value라는 것을 한 쌍으로 갖는 자료형이다. 예컨대 Key가 \"baseball\"이라면 Value는 \"야구\"가 될 것이다."
      ]
    },
    {
      "cell_type": "markdown",
      "metadata": {
        "id": "m0NrH8Thd619"
      },
      "source": [
        "딕셔너리는 리스트나 튜플처럼 순서(index)로 해당 요소값을 구하지 않고 Key를 통해 Value를 얻는다. 이것이 바로 딕셔너리의 가장 큰 특징이다. baseball이라는 단어의 뜻을 찾기 위해 사전의 내용을 순차적으로 모두 검색하는 것이 아니라 baseball이라는 단어가 있는 곳만 펼쳐 보는 것이다."
      ]
    },
    {
      "cell_type": "markdown",
      "metadata": {
        "id": "M82FzZZld61-"
      },
      "source": [
        "## 딕셔너리는 어떻게 만들까?"
      ]
    },
    {
      "cell_type": "markdown",
      "metadata": {
        "id": "CkRtHmfgd61-"
      },
      "source": [
        "다음은 기본적인 딕셔너리의 모습이다."
      ]
    },
    {
      "cell_type": "raw",
      "metadata": {
        "id": "cF_Eboa-d61-"
      },
      "source": [
        "{Key1:Value1, Key2:Value2, Key3:Value3, ...}"
      ]
    },
    {
      "cell_type": "markdown",
      "metadata": {
        "id": "mCbLeBkjd61-"
      },
      "source": [
        "Key와 Value의 쌍 여러 개가 {과 }로 둘러싸여 있다. 각각의 요소는 Key : Value 형태로 이루어져 있고 쉼표(,) 로 구분되어 있다."
      ]
    },
    {
      "cell_type": "markdown",
      "metadata": {
        "id": "-7K9lXfud61-"
      },
      "source": [
        "다음의 딕셔너리 예를 살펴보자."
      ]
    },
    {
      "cell_type": "code",
      "metadata": {
        "collapsed": true,
        "id": "T2J_qJf9d61-"
      },
      "source": [
        "me = {'name':'john', 'phone':'01012345678', 'birth': '0101'}"
      ],
      "execution_count": null,
      "outputs": []
    },
    {
      "cell_type": "code",
      "metadata": {
        "id": "PIzJNbS1d61-",
        "colab": {
          "base_uri": "https://localhost:8080/"
        },
        "outputId": "d6f5e033-5ba8-47f3-b0f6-4b9233d19536"
      },
      "source": [
        "me"
      ],
      "execution_count": null,
      "outputs": [
        {
          "output_type": "execute_result",
          "data": {
            "text/plain": [
              "{'birth': '0101', 'name': 'john', 'phone': '01012345678'}"
            ]
          },
          "metadata": {},
          "execution_count": 90
        }
      ]
    },
    {
      "cell_type": "markdown",
      "metadata": {
        "id": "FNnZt0H2d61-"
      },
      "source": [
        "Key로는 문자열, 숫자 등이 들어갈 수 있다. 다음의 예는 Key로 정수값 1, Value로 'hi'라는 문자열을 사용한 예이다."
      ]
    },
    {
      "cell_type": "raw",
      "metadata": {
        "id": "xDRef6GRd61-"
      },
      "source": [
        "a = {1: 'hi'}\n",
        "\n",
        "a"
      ]
    },
    {
      "cell_type": "code",
      "metadata": {
        "collapsed": true,
        "id": "a7cgoZ7sd61_",
        "colab": {
          "base_uri": "https://localhost:8080/",
          "height": 35
        },
        "outputId": "43bc354d-d2b1-43e5-f5c7-98034f23e6e1"
      },
      "source": [
        "a = {1:'hi'}\n",
        "a[1]"
      ],
      "execution_count": null,
      "outputs": [
        {
          "output_type": "execute_result",
          "data": {
            "application/vnd.google.colaboratory.intrinsic+json": {
              "type": "string"
            },
            "text/plain": [
              "'hi'"
            ]
          },
          "metadata": {},
          "execution_count": 94
        }
      ]
    },
    {
      "cell_type": "markdown",
      "metadata": {
        "id": "8lQSIJqvd61_"
      },
      "source": [
        "또한 다음의 예처럼 Value에 리스트도 넣을 수 있다."
      ]
    },
    {
      "cell_type": "raw",
      "metadata": {
        "id": "kxMN2teZd61_"
      },
      "source": [
        "a = {'a': [1,2,3]}\n",
        "\n",
        "a"
      ]
    },
    {
      "cell_type": "code",
      "metadata": {
        "collapsed": true,
        "id": "MXYSJX8Yd61_",
        "colab": {
          "base_uri": "https://localhost:8080/"
        },
        "outputId": "f48eedec-6e8a-4cff-e7de-52c320443276"
      },
      "source": [
        "a = {'a': [1,2,3]}\n",
        "a"
      ],
      "execution_count": null,
      "outputs": [
        {
          "output_type": "execute_result",
          "data": {
            "text/plain": [
              "{'a': [1, 2, 3]}"
            ]
          },
          "metadata": {},
          "execution_count": 95
        }
      ]
    },
    {
      "cell_type": "markdown",
      "metadata": {
        "id": "U8gpsgHbd61_"
      },
      "source": [
        "## 딕셔너리 쌍 추가, 삭제하기"
      ]
    },
    {
      "cell_type": "markdown",
      "metadata": {
        "id": "Uav34TPpd61_"
      },
      "source": [
        "### 1. 딕셔너리 쌍 추가하기"
      ]
    },
    {
      "cell_type": "raw",
      "metadata": {
        "id": "oUvd6J9ed61_"
      },
      "source": [
        "a = {1: 'a'}\n",
        "\n",
        "a[2] = 'b'\n",
        "\n",
        "a"
      ]
    },
    {
      "cell_type": "code",
      "metadata": {
        "collapsed": true,
        "id": "oqzsbteEd61_",
        "colab": {
          "base_uri": "https://localhost:8080/"
        },
        "outputId": "fff81904-14a4-4067-93a8-35b83818a0fd"
      },
      "source": [
        "a = {1: 'a'}\n",
        "a[2] = 'b'\n",
        "a"
      ],
      "execution_count": null,
      "outputs": [
        {
          "output_type": "execute_result",
          "data": {
            "text/plain": [
              "{1: 'a', 2: 'b'}"
            ]
          },
          "metadata": {},
          "execution_count": 96
        }
      ]
    },
    {
      "cell_type": "markdown",
      "metadata": {
        "id": "Dgt7yZNjd61_"
      },
      "source": [
        "존재하지 않는 key에 새 value를 할당하면 간단하게 딕셔너리 쌍을 추가할 수 있다."
      ]
    },
    {
      "cell_type": "markdown",
      "metadata": {
        "id": "R0IkpBwZd61_"
      },
      "source": [
        "### 2. 딕셔너리 요소 삭제하기"
      ]
    },
    {
      "cell_type": "raw",
      "metadata": {
        "id": "l4iTn2w8d61_"
      },
      "source": [
        "del a[1]\n",
        "\n",
        "a"
      ]
    },
    {
      "cell_type": "code",
      "metadata": {
        "collapsed": true,
        "id": "LLYA_Qm2d62A",
        "colab": {
          "base_uri": "https://localhost:8080/"
        },
        "outputId": "b51ad1dc-2b76-44b6-a8a0-de938d5b809f"
      },
      "source": [
        "del a[1]\n",
        "a"
      ],
      "execution_count": null,
      "outputs": [
        {
          "output_type": "execute_result",
          "data": {
            "text/plain": [
              "{2: 'b'}"
            ]
          },
          "metadata": {},
          "execution_count": 97
        }
      ]
    },
    {
      "cell_type": "markdown",
      "metadata": {
        "id": "J6YinBVid62A"
      },
      "source": [
        "## 딕셔너리를 사용하는 방법"
      ]
    },
    {
      "cell_type": "markdown",
      "metadata": {
        "id": "8lbm8D4pd62A"
      },
      "source": [
        "### 딕셔너리에서 Key 사용해 Value 얻기"
      ]
    },
    {
      "cell_type": "code",
      "metadata": {
        "collapsed": true,
        "id": "aHp1NwGGd62A"
      },
      "source": [
        "me = {'name':'john', 'phone':'01012345678', 'birth': '0101'}"
      ],
      "execution_count": null,
      "outputs": []
    },
    {
      "cell_type": "raw",
      "metadata": {
        "id": "Uhy69L6xd62A"
      },
      "source": [
        "me['name']"
      ]
    },
    {
      "cell_type": "code",
      "metadata": {
        "collapsed": true,
        "id": "wRVRBCyQd62A",
        "colab": {
          "base_uri": "https://localhost:8080/",
          "height": 35
        },
        "outputId": "b124c1c8-01fc-4dd1-966d-eb5f8393a9aa"
      },
      "source": [
        "me['name']"
      ],
      "execution_count": null,
      "outputs": [
        {
          "output_type": "execute_result",
          "data": {
            "application/vnd.google.colaboratory.intrinsic+json": {
              "type": "string"
            },
            "text/plain": [
              "'john'"
            ]
          },
          "metadata": {},
          "execution_count": 99
        }
      ]
    },
    {
      "cell_type": "raw",
      "metadata": {
        "id": "xpz73dgKd62A"
      },
      "source": [
        "me['phone']"
      ]
    },
    {
      "cell_type": "code",
      "metadata": {
        "collapsed": true,
        "id": "CFG-2lqSd62A",
        "colab": {
          "base_uri": "https://localhost:8080/",
          "height": 35
        },
        "outputId": "150270de-de52-4bda-d66c-92c5b5b69cc7"
      },
      "source": [
        "me['phone']"
      ],
      "execution_count": null,
      "outputs": [
        {
          "output_type": "execute_result",
          "data": {
            "application/vnd.google.colaboratory.intrinsic+json": {
              "type": "string"
            },
            "text/plain": [
              "'01012345678'"
            ]
          },
          "metadata": {},
          "execution_count": 100
        }
      ]
    },
    {
      "cell_type": "markdown",
      "metadata": {
        "id": "5ibyhyd7d62A"
      },
      "source": [
        "리스트나 튜플에서 인덱싱을 통해 요소값을 얻어낸 것처럼, 딕셔너리에서는 key를 통해 value를 얻을 수 있다."
      ]
    },
    {
      "cell_type": "markdown",
      "metadata": {
        "id": "Tyu3HCOJd62A"
      },
      "source": [
        "### 딕셔너리 만들 때 주의할 사항"
      ]
    },
    {
      "cell_type": "markdown",
      "metadata": {
        "id": "R7_EgcE0d62A"
      },
      "source": [
        "한 가지 주의해야 할 사항은 Key에 리스트는 쓸 수 없다는 것이다. 하지만 튜플은 Key로 쓸 수 있다. 딕셔너리의 Key로 쓸 수 있느냐 없느냐는 Key가 변하는 값인지 변하지 않는 값인지에 달려 있다. 리스트는 그 값이 변할 수 있기 때문에 Key로 쓸 수 없는 것이다. 아래 예처럼 리스트를 Key로 설정하면 리스트를 키 값으로 사용할 수 없다는 형 오류(TypeError)가 발생한다."
      ]
    },
    {
      "cell_type": "code",
      "metadata": {
        "collapsed": true,
        "id": "HI2p7PiId62B",
        "colab": {
          "base_uri": "https://localhost:8080/",
          "height": 168
        },
        "outputId": "3e8c60db-e80e-4b54-a74d-d9e13895cbaa"
      },
      "source": [
        "a = {[1,2] : 'hi'}"
      ],
      "execution_count": null,
      "outputs": [
        {
          "output_type": "error",
          "ename": "TypeError",
          "evalue": "ignored",
          "traceback": [
            "\u001b[0;31m---------------------------------------------------------------------------\u001b[0m",
            "\u001b[0;31mTypeError\u001b[0m                                 Traceback (most recent call last)",
            "\u001b[0;32m<ipython-input-101-bcf766ba5a2c>\u001b[0m in \u001b[0;36m<module>\u001b[0;34m()\u001b[0m\n\u001b[0;32m----> 1\u001b[0;31m \u001b[0ma\u001b[0m \u001b[0;34m=\u001b[0m \u001b[0;34m{\u001b[0m\u001b[0;34m[\u001b[0m\u001b[0;36m1\u001b[0m\u001b[0;34m,\u001b[0m\u001b[0;36m2\u001b[0m\u001b[0;34m]\u001b[0m \u001b[0;34m:\u001b[0m \u001b[0;34m'hi'\u001b[0m\u001b[0;34m}\u001b[0m\u001b[0;34m\u001b[0m\u001b[0;34m\u001b[0m\u001b[0m\n\u001b[0m",
            "\u001b[0;31mTypeError\u001b[0m: unhashable type: 'list'"
          ]
        }
      ]
    },
    {
      "cell_type": "markdown",
      "metadata": {
        "id": "OAKp7Phed62B"
      },
      "source": [
        "단, Value에는 변하는 값이든 변하지 않는 값이든 상관없이 아무 값이나 넣을 수 있다."
      ]
    },
    {
      "cell_type": "markdown",
      "metadata": {
        "id": "un0sfwZXd62B"
      },
      "source": [
        "## 딕셔너리 관련 함수들"
      ]
    },
    {
      "cell_type": "markdown",
      "metadata": {
        "id": "hsxnYXsjd62B"
      },
      "source": [
        "### Key 리스트 만들기(keys)"
      ]
    },
    {
      "cell_type": "code",
      "metadata": {
        "collapsed": true,
        "id": "vQWU7VQUd62B"
      },
      "source": [
        "me = {'name':'john', 'phone':'01012345678', 'birth': '0101'}"
      ],
      "execution_count": null,
      "outputs": []
    },
    {
      "cell_type": "raw",
      "metadata": {
        "id": "vGep5y3ld62B"
      },
      "source": [
        "me.keys()"
      ]
    },
    {
      "cell_type": "code",
      "metadata": {
        "collapsed": true,
        "id": "Icj8kDPsd62B",
        "colab": {
          "base_uri": "https://localhost:8080/"
        },
        "outputId": "3745344a-f31f-48a9-b7d2-2ff7d13aaec0"
      },
      "source": [
        "me.keys()"
      ],
      "execution_count": null,
      "outputs": [
        {
          "output_type": "execute_result",
          "data": {
            "text/plain": [
              "dict_keys(['name', 'phone', 'birth'])"
            ]
          },
          "metadata": {},
          "execution_count": 103
        }
      ]
    },
    {
      "cell_type": "markdown",
      "metadata": {
        "id": "ZdvcGNGmd62B"
      },
      "source": [
        "keys() 함수의 결과는 dict_keys라는 특수한 객체이다. dict_keys 객체를 리스트로 변환하려면 다음과 같이 하면 된다."
      ]
    },
    {
      "cell_type": "raw",
      "metadata": {
        "id": "x-G798uKd62B"
      },
      "source": [
        "list(me.keys())"
      ]
    },
    {
      "cell_type": "code",
      "metadata": {
        "collapsed": true,
        "id": "6TNMmM3Zd62B",
        "colab": {
          "base_uri": "https://localhost:8080/"
        },
        "outputId": "b53c2f4f-f632-41fb-d782-11c1fda88e1e"
      },
      "source": [
        "list(me.keys())"
      ],
      "execution_count": null,
      "outputs": [
        {
          "output_type": "execute_result",
          "data": {
            "text/plain": [
              "['name', 'phone', 'birth']"
            ]
          },
          "metadata": {},
          "execution_count": 104
        }
      ]
    },
    {
      "cell_type": "markdown",
      "metadata": {
        "id": "zSWCzqvtd62B"
      },
      "source": [
        "### Value 리스트 만들기(values)"
      ]
    },
    {
      "cell_type": "raw",
      "metadata": {
        "id": "dNWsTLCjd62B"
      },
      "source": [
        "me.values()"
      ]
    },
    {
      "cell_type": "code",
      "metadata": {
        "collapsed": true,
        "id": "XF7nXDZ8d62C",
        "colab": {
          "base_uri": "https://localhost:8080/"
        },
        "outputId": "57aa3a9c-6726-443b-c60c-29e53b52ee0e"
      },
      "source": [
        "me.values()"
      ],
      "execution_count": null,
      "outputs": [
        {
          "output_type": "execute_result",
          "data": {
            "text/plain": [
              "dict_values(['john', '01012345678', '0101'])"
            ]
          },
          "metadata": {},
          "execution_count": 105
        }
      ]
    },
    {
      "cell_type": "code",
      "metadata": {
        "colab": {
          "base_uri": "https://localhost:8080/"
        },
        "id": "qUChoz8WzNi1",
        "outputId": "d3749b57-39dc-40d0-85f1-458d257bb87c"
      },
      "source": [
        "list(me.values())"
      ],
      "execution_count": null,
      "outputs": [
        {
          "output_type": "execute_result",
          "data": {
            "text/plain": [
              "['john', '01012345678', '0101']"
            ]
          },
          "metadata": {},
          "execution_count": 106
        }
      ]
    },
    {
      "cell_type": "markdown",
      "metadata": {
        "id": "wn6BUixZd62C"
      },
      "source": [
        "### Key, Value 쌍 얻기(items)"
      ]
    },
    {
      "cell_type": "raw",
      "metadata": {
        "id": "eS73ldxCd62C"
      },
      "source": [
        "me.items()"
      ]
    },
    {
      "cell_type": "code",
      "metadata": {
        "collapsed": true,
        "id": "zCO6-Epid62C",
        "colab": {
          "base_uri": "https://localhost:8080/"
        },
        "outputId": "dd76a731-6c3d-4a6f-bec3-6941d17909e1"
      },
      "source": [
        "list(me.items())"
      ],
      "execution_count": null,
      "outputs": [
        {
          "output_type": "execute_result",
          "data": {
            "text/plain": [
              "[('name', 'john'), ('phone', '01012345678'), ('birth', '0101')]"
            ]
          },
          "metadata": {},
          "execution_count": 110
        }
      ]
    },
    {
      "cell_type": "markdown",
      "metadata": {
        "id": "BfGOFua0d62C"
      },
      "source": [
        "# 6. 집합 자료형"
      ]
    },
    {
      "cell_type": "markdown",
      "metadata": {
        "id": "0cTBoJuUd62C"
      },
      "source": [
        "우리가 중학교 때부터 배웠던 바로 그 집합이 파이썬 기본 자료형으로 제공된다."
      ]
    },
    {
      "cell_type": "markdown",
      "metadata": {
        "id": "2tkKD_jBd62C"
      },
      "source": [
        "## 집합 자료형은 어떻게 만들까?"
      ]
    },
    {
      "cell_type": "markdown",
      "metadata": {
        "id": "9flyJGvvd62C"
      },
      "source": [
        "가장 직관적으로 집합을 만드는 방법은 중괄호({, })를 이용하는 것이다. 딕셔너리도 중괄호를 쓰지만, 딕셔너리에는 콜론(:)이 있는 반면 집합에는 콜론이 없다."
      ]
    },
    {
      "cell_type": "raw",
      "metadata": {
        "id": "Eum2sA2Hd62C"
      },
      "source": [
        "s1 = {1, 2, 3}"
      ]
    },
    {
      "cell_type": "code",
      "metadata": {
        "collapsed": true,
        "id": "M_R_Ym0Wd62C",
        "colab": {
          "base_uri": "https://localhost:8080/"
        },
        "outputId": "becf893a-7879-4946-d660-0e6511cfecdd"
      },
      "source": [
        "s1 = {1,2,3}\n",
        "s1"
      ],
      "execution_count": null,
      "outputs": [
        {
          "output_type": "execute_result",
          "data": {
            "text/plain": [
              "{1, 2, 3}"
            ]
          },
          "metadata": {},
          "execution_count": 112
        }
      ]
    },
    {
      "cell_type": "markdown",
      "metadata": {
        "id": "kruVT8kmd62C"
      },
      "source": [
        "## 집합 자료형의 특징"
      ]
    },
    {
      "cell_type": "markdown",
      "metadata": {
        "id": "OdAmnN1Md62D"
      },
      "source": [
        "중학교 때 배웠던 집합의 성질이 파이썬에도 그대로 적용된다. 즉, 집합은\n",
        "\n",
        "- 중복을 허용하지 않는다.\n",
        "- 순서가 없다(Unordered)."
      ]
    },
    {
      "cell_type": "markdown",
      "metadata": {
        "id": "a8r2ERpad62D"
      },
      "source": [
        "리스트나 튜플은 순서가 있기(ordered) 때문에 인덱싱을 통해 자료형의 값을 얻을 수 있지만 set 자료형은 순서가 없기(unordered) 때문에 인덱싱으로 값을 얻을 수 없다. "
      ]
    },
    {
      "cell_type": "markdown",
      "metadata": {
        "id": "pNf5s7ETd62D"
      },
      "source": [
        "## 집합 자료형 활용하는 방법"
      ]
    },
    {
      "cell_type": "markdown",
      "metadata": {
        "id": "F6K8043jd62D"
      },
      "source": [
        "우선 다음과 같이 2개의 set 자료형을 만들어보자."
      ]
    },
    {
      "cell_type": "code",
      "metadata": {
        "collapsed": true,
        "id": "5USBHlWfd62D"
      },
      "source": [
        "s1 = {1, 2, 3, 4, 5, 6}\n",
        "s2 = {4, 5, 6, 7, 8, 9}"
      ],
      "execution_count": null,
      "outputs": []
    },
    {
      "cell_type": "markdown",
      "metadata": {
        "id": "GhwsUjMdd62D"
      },
      "source": [
        "### 교집합"
      ]
    },
    {
      "cell_type": "raw",
      "metadata": {
        "id": "P_lZYD56d62D"
      },
      "source": [
        "s1 & s2"
      ]
    },
    {
      "cell_type": "code",
      "metadata": {
        "collapsed": true,
        "id": "SFcgCdLVd62E",
        "colab": {
          "base_uri": "https://localhost:8080/"
        },
        "outputId": "dab548ac-56b4-453b-ce59-24f4d155d848"
      },
      "source": [
        "s1 & s2"
      ],
      "execution_count": null,
      "outputs": [
        {
          "output_type": "execute_result",
          "data": {
            "text/plain": [
              "{4, 5, 6}"
            ]
          },
          "metadata": {},
          "execution_count": 114
        }
      ]
    },
    {
      "cell_type": "markdown",
      "metadata": {
        "id": "2bGFNrfPd62E"
      },
      "source": [
        "또는 다음과 같이 intersection 함수를 사용해도 동일한 결과를 리턴한다."
      ]
    },
    {
      "cell_type": "raw",
      "metadata": {
        "id": "T3SXcDmLd62E"
      },
      "source": [
        "s1.intersection(s2)"
      ]
    },
    {
      "cell_type": "code",
      "metadata": {
        "collapsed": true,
        "id": "sOMa_Oujd62E",
        "colab": {
          "base_uri": "https://localhost:8080/"
        },
        "outputId": "ea64c21f-fc4f-4492-eeeb-1a4732f4bb5a"
      },
      "source": [
        "s1.intersection(s2)"
      ],
      "execution_count": null,
      "outputs": [
        {
          "output_type": "execute_result",
          "data": {
            "text/plain": [
              "{4, 5, 6}"
            ]
          },
          "metadata": {},
          "execution_count": 116
        }
      ]
    },
    {
      "cell_type": "markdown",
      "metadata": {
        "id": "IRyq2jkJd62E"
      },
      "source": [
        "s2.intersection(s1)을 사용해도 결과는 같다."
      ]
    },
    {
      "cell_type": "code",
      "metadata": {
        "colab": {
          "base_uri": "https://localhost:8080/"
        },
        "id": "IizV05Wb0C3o",
        "outputId": "42bcfdb1-2f62-4016-c22a-cbb4f68ce757"
      },
      "source": [
        "s2.intersection(s1)"
      ],
      "execution_count": null,
      "outputs": [
        {
          "output_type": "execute_result",
          "data": {
            "text/plain": [
              "{4, 5, 6}"
            ]
          },
          "metadata": {},
          "execution_count": 117
        }
      ]
    },
    {
      "cell_type": "markdown",
      "metadata": {
        "id": "IamomB9Wd62E"
      },
      "source": [
        "### 합집합"
      ]
    },
    {
      "cell_type": "raw",
      "metadata": {
        "id": "4-rQnsrmd62E"
      },
      "source": [
        "s1 | s2"
      ]
    },
    {
      "cell_type": "code",
      "metadata": {
        "collapsed": true,
        "id": "fsA7pVC6d62E",
        "colab": {
          "base_uri": "https://localhost:8080/"
        },
        "outputId": "d7140061-6cda-41c4-b411-1f4ace289de4"
      },
      "source": [
        "s1 | s2"
      ],
      "execution_count": null,
      "outputs": [
        {
          "output_type": "execute_result",
          "data": {
            "text/plain": [
              "{1, 2, 3, 4, 5, 6, 7, 8, 9}"
            ]
          },
          "metadata": {},
          "execution_count": 119
        }
      ]
    },
    {
      "cell_type": "raw",
      "metadata": {
        "id": "dB3oUu_2d62E"
      },
      "source": [
        "s1.union(s2)"
      ]
    },
    {
      "cell_type": "code",
      "metadata": {
        "collapsed": true,
        "id": "6cQF1Jfrd62E",
        "colab": {
          "base_uri": "https://localhost:8080/"
        },
        "outputId": "cf63a4d7-3b6a-4271-f60d-a625a8b1aff0"
      },
      "source": [
        "s1.union(s2)"
      ],
      "execution_count": null,
      "outputs": [
        {
          "output_type": "execute_result",
          "data": {
            "text/plain": [
              "{1, 2, 3, 4, 5, 6, 7, 8, 9}"
            ]
          },
          "metadata": {},
          "execution_count": 120
        }
      ]
    },
    {
      "cell_type": "markdown",
      "metadata": {
        "id": "iKL6D7ePd62E"
      },
      "source": [
        "### 차집합"
      ]
    },
    {
      "cell_type": "raw",
      "metadata": {
        "id": "bY76N1PEd62F"
      },
      "source": [
        "s1 - s2"
      ]
    },
    {
      "cell_type": "code",
      "metadata": {
        "collapsed": true,
        "id": "lseLFlZ3d62F",
        "colab": {
          "base_uri": "https://localhost:8080/"
        },
        "outputId": "eb6f3247-9ef9-4d96-c64b-cc518d07c492"
      },
      "source": [
        "s1 - s2"
      ],
      "execution_count": null,
      "outputs": [
        {
          "output_type": "execute_result",
          "data": {
            "text/plain": [
              "{1, 2, 3}"
            ]
          },
          "metadata": {},
          "execution_count": 121
        }
      ]
    },
    {
      "cell_type": "raw",
      "metadata": {
        "id": "lVAA3nyid62F"
      },
      "source": [
        "s2 - s1"
      ]
    },
    {
      "cell_type": "code",
      "metadata": {
        "collapsed": true,
        "id": "vplE9f8Ud62F",
        "colab": {
          "base_uri": "https://localhost:8080/"
        },
        "outputId": "81ef1fa6-2b33-4528-d263-9b8d72eee4f5"
      },
      "source": [
        "s2 - s1"
      ],
      "execution_count": null,
      "outputs": [
        {
          "output_type": "execute_result",
          "data": {
            "text/plain": [
              "{7, 8, 9}"
            ]
          },
          "metadata": {},
          "execution_count": 122
        }
      ]
    },
    {
      "cell_type": "raw",
      "metadata": {
        "id": "4BBOOD8kd62F"
      },
      "source": [
        "s1.difference(s2)"
      ]
    },
    {
      "cell_type": "code",
      "metadata": {
        "collapsed": true,
        "id": "bvqw0R9Gd62F",
        "colab": {
          "base_uri": "https://localhost:8080/"
        },
        "outputId": "f3f622fd-89bb-48ea-9905-3fb614dadf5f"
      },
      "source": [
        "s1.difference(s2)"
      ],
      "execution_count": null,
      "outputs": [
        {
          "output_type": "execute_result",
          "data": {
            "text/plain": [
              "{1, 2, 3}"
            ]
          },
          "metadata": {},
          "execution_count": 123
        }
      ]
    },
    {
      "cell_type": "code",
      "metadata": {
        "colab": {
          "base_uri": "https://localhost:8080/"
        },
        "id": "ghphMkqD0mnA",
        "outputId": "5dc5fab8-4c24-4daf-c2e1-916a47a42874"
      },
      "source": [
        "a = [1,2,3,1,2,3,2,1,4]\n",
        "set(a)"
      ],
      "execution_count": null,
      "outputs": [
        {
          "output_type": "execute_result",
          "data": {
            "text/plain": [
              "{1, 2, 3, 4}"
            ]
          },
          "metadata": {},
          "execution_count": 127
        }
      ]
    },
    {
      "cell_type": "markdown",
      "metadata": {
        "id": "xjPxLIMld62F"
      },
      "source": [
        "## 집합 자료형 관련 함수들"
      ]
    },
    {
      "cell_type": "markdown",
      "metadata": {
        "id": "1H3GW-nTd62F"
      },
      "source": [
        "### 값 1개 추가하기(add)"
      ]
    },
    {
      "cell_type": "markdown",
      "metadata": {
        "id": "MdOOn7Ryd62F"
      },
      "source": [
        "이미 만들어진 set 자료형에 값을 추가할 수 있다. 1개의 값만 추가(add)할 경우에는 아래와 같이 한다."
      ]
    },
    {
      "cell_type": "raw",
      "metadata": {
        "id": "rqSAyrQMd62G"
      },
      "source": [
        "s1 = {1, 2, 3}\n",
        "\n",
        "s1.add(4)\n",
        "\n",
        "s1"
      ]
    },
    {
      "cell_type": "code",
      "metadata": {
        "collapsed": true,
        "id": "P3rRy7ddd62G",
        "colab": {
          "base_uri": "https://localhost:8080/"
        },
        "outputId": "dfd276fc-ac17-4982-c061-7f3fc238ad40"
      },
      "source": [
        "s1 = {1,2,3}\n",
        "s1.add(4)\n",
        "s1"
      ],
      "execution_count": null,
      "outputs": [
        {
          "output_type": "execute_result",
          "data": {
            "text/plain": [
              "{1, 2, 3, 4}"
            ]
          },
          "metadata": {},
          "execution_count": 124
        }
      ]
    },
    {
      "cell_type": "markdown",
      "metadata": {
        "id": "14OvZ5qDd62G"
      },
      "source": [
        "### 값 여러 개 추가하기(update)"
      ]
    },
    {
      "cell_type": "raw",
      "metadata": {
        "id": "uPvlLPT3d62G"
      },
      "source": [
        "s1 = {1, 2, 3}\n",
        "\n",
        "s1.update([4, 5, 6])\n",
        "\n",
        "s1"
      ]
    },
    {
      "cell_type": "code",
      "metadata": {
        "collapsed": true,
        "id": "4FIwACFKd62G",
        "colab": {
          "base_uri": "https://localhost:8080/"
        },
        "outputId": "a3869567-6e00-49e6-9940-901de26e04aa"
      },
      "source": [
        "s1 = {1,2,3}\n",
        "s1.update([4,5,6])\n",
        "s1"
      ],
      "execution_count": null,
      "outputs": [
        {
          "output_type": "execute_result",
          "data": {
            "text/plain": [
              "{1, 2, 3, 4, 5, 6}"
            ]
          },
          "metadata": {},
          "execution_count": 125
        }
      ]
    },
    {
      "cell_type": "markdown",
      "metadata": {
        "id": "Lqrblw8id62G"
      },
      "source": [
        "### 특정 값 제거하기(remove)"
      ]
    },
    {
      "cell_type": "raw",
      "metadata": {
        "id": "zMmw8_Rqd62G"
      },
      "source": [
        "s1 = {1, 2, 3}\n",
        "\n",
        "s1.remove(2)\n",
        "\n",
        "s1"
      ]
    },
    {
      "cell_type": "code",
      "metadata": {
        "collapsed": true,
        "id": "kpTUAL_wd62G",
        "colab": {
          "base_uri": "https://localhost:8080/"
        },
        "outputId": "f1cc7543-7451-46dd-de86-3729f54c8043"
      },
      "source": [
        "s1 = {1,2,3}\n",
        "s1.remove(2)\n",
        "s1"
      ],
      "execution_count": null,
      "outputs": [
        {
          "output_type": "execute_result",
          "data": {
            "text/plain": [
              "{1, 3}"
            ]
          },
          "metadata": {},
          "execution_count": 126
        }
      ]
    },
    {
      "cell_type": "markdown",
      "metadata": {
        "id": "1iq60anBd62G"
      },
      "source": [
        "# 7. 그 밖의 자료형"
      ]
    },
    {
      "cell_type": "markdown",
      "metadata": {
        "id": "5YWCAfJzd62G"
      },
      "source": [
        "## 참과 거짓"
      ]
    },
    {
      "cell_type": "markdown",
      "metadata": {
        "id": "hpEikpIbd62H"
      },
      "source": [
        "파이썬에는 참과 거짓을 표현하는 자료형이 있다. True와 False이다. 첫 글자가 대문자라는 데 유의하자."
      ]
    },
    {
      "cell_type": "raw",
      "metadata": {
        "id": "lxpAFlcZd62H"
      },
      "source": [
        "True"
      ]
    },
    {
      "cell_type": "code",
      "metadata": {
        "collapsed": true,
        "id": "jYO_FQUKd62H",
        "colab": {
          "base_uri": "https://localhost:8080/"
        },
        "outputId": "78d3beab-0891-4237-f851-fb8271da3fad"
      },
      "source": [
        "True"
      ],
      "execution_count": null,
      "outputs": [
        {
          "output_type": "execute_result",
          "data": {
            "text/plain": [
              "True"
            ]
          },
          "metadata": {},
          "execution_count": 128
        }
      ]
    },
    {
      "cell_type": "raw",
      "metadata": {
        "id": "o4Gu2iyAd62H"
      },
      "source": [
        "False"
      ]
    },
    {
      "cell_type": "code",
      "metadata": {
        "collapsed": true,
        "id": "3YXq52nOd62H",
        "colab": {
          "base_uri": "https://localhost:8080/"
        },
        "outputId": "53064e1f-a079-412d-f8ff-78738c4c271e"
      },
      "source": [
        "False"
      ],
      "execution_count": null,
      "outputs": [
        {
          "output_type": "execute_result",
          "data": {
            "text/plain": [
              "False"
            ]
          },
          "metadata": {},
          "execution_count": 129
        }
      ]
    },
    {
      "cell_type": "markdown",
      "metadata": {
        "id": "vWzUdkEqd62H"
      },
      "source": [
        "참과 거짓은 조건문을 표현하는 데 유용하다. 예를 들어, 부등식의 결과는 참이나 거짓으로 나오게 된다."
      ]
    },
    {
      "cell_type": "raw",
      "metadata": {
        "id": "DLdnXa79d62H"
      },
      "source": [
        "3 > 2"
      ]
    },
    {
      "cell_type": "code",
      "metadata": {
        "collapsed": true,
        "id": "MK9XpN02d62H",
        "colab": {
          "base_uri": "https://localhost:8080/"
        },
        "outputId": "a6c6f094-45c9-4306-ea31-89b477915a85"
      },
      "source": [
        "3 > 2"
      ],
      "execution_count": null,
      "outputs": [
        {
          "output_type": "execute_result",
          "data": {
            "text/plain": [
              "True"
            ]
          },
          "metadata": {},
          "execution_count": 130
        }
      ]
    },
    {
      "cell_type": "raw",
      "metadata": {
        "id": "zpmEHp0bd62H"
      },
      "source": [
        "4 > 7"
      ]
    },
    {
      "cell_type": "code",
      "metadata": {
        "collapsed": true,
        "id": "0qOO9Okbd62I",
        "colab": {
          "base_uri": "https://localhost:8080/"
        },
        "outputId": "755defd2-dcc7-4b0c-dbe0-eef5f42de958"
      },
      "source": [
        "4 > 7"
      ],
      "execution_count": null,
      "outputs": [
        {
          "output_type": "execute_result",
          "data": {
            "text/plain": [
              "False"
            ]
          },
          "metadata": {},
          "execution_count": 131
        }
      ]
    },
    {
      "cell_type": "markdown",
      "metadata": {
        "id": "HtFz4d9Yd62I"
      },
      "source": [
        "리스트나 튜플, 딕셔너리에 특정 값이 존재하는지 검사 결과도 참 또는 거짓으로 나온다."
      ]
    },
    {
      "cell_type": "raw",
      "metadata": {
        "id": "dWoMMdgnd62I"
      },
      "source": [
        "a = [1, 2, 3]\n",
        "\n",
        "3 in a"
      ]
    },
    {
      "cell_type": "code",
      "metadata": {
        "collapsed": true,
        "id": "-nj3epT4d62I",
        "colab": {
          "base_uri": "https://localhost:8080/"
        },
        "outputId": "4ee4ff3d-cc88-4106-97f3-1a393e2ac9fa"
      },
      "source": [
        "a = [1,2,3]\n",
        "3 in a"
      ],
      "execution_count": null,
      "outputs": [
        {
          "output_type": "execute_result",
          "data": {
            "text/plain": [
              "True"
            ]
          },
          "metadata": {},
          "execution_count": 132
        }
      ]
    },
    {
      "cell_type": "raw",
      "metadata": {
        "id": "INp9PxkEd62I"
      },
      "source": [
        "a = ('a', 'b', 'c')\n",
        "\n",
        "'d' in a"
      ]
    },
    {
      "cell_type": "code",
      "metadata": {
        "collapsed": true,
        "id": "TuDEM4Gud62I",
        "colab": {
          "base_uri": "https://localhost:8080/"
        },
        "outputId": "df870646-e851-496c-817b-c0286efdf340"
      },
      "source": [
        "a = ('a', 'b', 'c')\n",
        "'d' in a"
      ],
      "execution_count": null,
      "outputs": [
        {
          "output_type": "execute_result",
          "data": {
            "text/plain": [
              "False"
            ]
          },
          "metadata": {},
          "execution_count": 133
        }
      ]
    },
    {
      "cell_type": "markdown",
      "metadata": {
        "id": "HofMTViFd62I"
      },
      "source": [
        "딕셔너리에서 in은 value가 아닌 key 중에 존재하는지 검사한다."
      ]
    },
    {
      "cell_type": "code",
      "metadata": {
        "collapsed": true,
        "id": "nA8FcdOXd62I"
      },
      "source": [
        "me = {'name':'john', 'phone':'01012345678', 'birth': '0101'}"
      ],
      "execution_count": null,
      "outputs": []
    },
    {
      "cell_type": "raw",
      "metadata": {
        "id": "e2Ls7bbbd62I"
      },
      "source": [
        "'name' in me"
      ]
    },
    {
      "cell_type": "code",
      "metadata": {
        "collapsed": true,
        "id": "-TSY2VXKd62I",
        "colab": {
          "base_uri": "https://localhost:8080/"
        },
        "outputId": "9963afd0-5111-4dad-d628-2e7747f98b81"
      },
      "source": [
        "'name' in me"
      ],
      "execution_count": null,
      "outputs": [
        {
          "output_type": "execute_result",
          "data": {
            "text/plain": [
              "True"
            ]
          },
          "metadata": {},
          "execution_count": 135
        }
      ]
    },
    {
      "cell_type": "raw",
      "metadata": {
        "id": "GkVIml7Ed62J"
      },
      "source": [
        "'john' in me"
      ]
    },
    {
      "cell_type": "code",
      "metadata": {
        "collapsed": true,
        "id": "BIW-ov9wd62J",
        "colab": {
          "base_uri": "https://localhost:8080/"
        },
        "outputId": "53b6cfd6-52dc-4616-ecf4-229115d40be1"
      },
      "source": [
        "'john' in me"
      ],
      "execution_count": null,
      "outputs": [
        {
          "output_type": "execute_result",
          "data": {
            "text/plain": [
              "False"
            ]
          },
          "metadata": {},
          "execution_count": 136
        }
      ]
    },
    {
      "cell_type": "markdown",
      "metadata": {
        "id": "yfeTzNCsd62J"
      },
      "source": [
        "## 존재하지 않음"
      ]
    },
    {
      "cell_type": "markdown",
      "metadata": {
        "id": "iYgsw-y-d62J"
      },
      "source": [
        "마지막으로, 파이썬에는 존재하지 않음을 나타내는 자료형 None이 있다. 데이터에서 측정이 안된 값 등을 나타내는 데 유용하게 사용된다."
      ]
    },
    {
      "cell_type": "raw",
      "metadata": {
        "id": "sKDqyXWad62J"
      },
      "source": [
        "None"
      ]
    },
    {
      "cell_type": "code",
      "metadata": {
        "id": "dElZIPsz1dBs"
      },
      "source": [
        "None"
      ],
      "execution_count": null,
      "outputs": []
    },
    {
      "cell_type": "markdown",
      "metadata": {
        "id": "DpXghKXUd62J"
      },
      "source": [
        "# 8. 형 변환"
      ]
    },
    {
      "cell_type": "markdown",
      "metadata": {
        "id": "NV2n9OMJd62J"
      },
      "source": [
        "내장함수를 이용해 한 자료형에서 다른 자료형으로 형 변환을 할 수 있다."
      ]
    },
    {
      "cell_type": "raw",
      "metadata": {
        "id": "J_GQCc0sd62J"
      },
      "source": [
        "a = '3'\n",
        "\n",
        "int(a)"
      ]
    },
    {
      "cell_type": "code",
      "metadata": {
        "collapsed": true,
        "id": "oxIrN9B4d62J",
        "colab": {
          "base_uri": "https://localhost:8080/"
        },
        "outputId": "23a9ad2e-923d-40ea-fd13-59bb56973b4d"
      },
      "source": [
        "a = '3'\n",
        "int(a)"
      ],
      "execution_count": null,
      "outputs": [
        {
          "output_type": "execute_result",
          "data": {
            "text/plain": [
              "3"
            ]
          },
          "metadata": {},
          "execution_count": 138
        }
      ]
    },
    {
      "cell_type": "raw",
      "metadata": {
        "id": "dqZpgJ0qd62J"
      },
      "source": [
        "t = {'a', 'b', 'c', 'd', 'e', 'f'}\n",
        "\n",
        "list(t)"
      ]
    },
    {
      "cell_type": "code",
      "metadata": {
        "collapsed": true,
        "id": "YYyyJQcZd62J",
        "colab": {
          "base_uri": "https://localhost:8080/"
        },
        "outputId": "07a48101-6088-4ed5-fee3-0163bf504889"
      },
      "source": [
        "t = {'a', 'b', 'c', 'd', 'e', 'f'}\n",
        "list(t)"
      ],
      "execution_count": null,
      "outputs": [
        {
          "output_type": "execute_result",
          "data": {
            "text/plain": [
              "['b', 'a', 'c', 'd', 'f', 'e']"
            ]
          },
          "metadata": {},
          "execution_count": 139
        }
      ]
    },
    {
      "cell_type": "raw",
      "metadata": {
        "id": "4scq0s-Nd62K"
      },
      "source": [
        "a = 57\n",
        "\n",
        "str(a)"
      ]
    },
    {
      "cell_type": "code",
      "metadata": {
        "collapsed": true,
        "id": "VzeSBOY9d62K",
        "colab": {
          "base_uri": "https://localhost:8080/",
          "height": 35
        },
        "outputId": "83b0b32a-52d0-4936-bbc3-f2720b07b821"
      },
      "source": [
        "a = 57\n",
        "str(a)"
      ],
      "execution_count": null,
      "outputs": [
        {
          "output_type": "execute_result",
          "data": {
            "application/vnd.google.colaboratory.intrinsic+json": {
              "type": "string"
            },
            "text/plain": [
              "'57'"
            ]
          },
          "metadata": {},
          "execution_count": 140
        }
      ]
    },
    {
      "cell_type": "markdown",
      "metadata": {
        "id": "vUdBqbadd62K"
      },
      "source": [
        "Q. ['A', 'C', 'S', 'D', 'F', 'A', 'S', 'F', 'D', 'A'] 에서 서로 다른 알파벳의 개수는?"
      ]
    },
    {
      "cell_type": "code",
      "metadata": {
        "collapsed": true,
        "id": "fkHyPq4Sd62K"
      },
      "source": [
        "l = ['A', 'C', 'S', 'D', 'F', 'A', 'S', 'F', 'D', 'A']"
      ],
      "execution_count": null,
      "outputs": []
    },
    {
      "cell_type": "code",
      "metadata": {
        "colab": {
          "base_uri": "https://localhost:8080/"
        },
        "id": "oEwTF5WOqDby",
        "outputId": "87c06578-e70f-4077-d2a0-7dc9715a8ad5"
      },
      "source": [
        "len(set(l))"
      ],
      "execution_count": null,
      "outputs": [
        {
          "output_type": "execute_result",
          "data": {
            "text/plain": [
              "5"
            ]
          },
          "metadata": {},
          "execution_count": 143
        }
      ]
    },
    {
      "cell_type": "markdown",
      "metadata": {
        "id": "UbdX7JaoqE6t"
      },
      "source": [
        "# 9. 형 확인"
      ]
    },
    {
      "cell_type": "markdown",
      "metadata": {
        "id": "6vew6fENqK19"
      },
      "source": [
        "내장함수를 이용해 데이터의 타입을 확인할 수 있다."
      ]
    },
    {
      "cell_type": "markdown",
      "metadata": {
        "id": "7JTQw04lqRJs"
      },
      "source": [
        "a = 4\n",
        "\n",
        "type(a)"
      ]
    },
    {
      "cell_type": "code",
      "metadata": {
        "colab": {
          "base_uri": "https://localhost:8080/"
        },
        "id": "io_3Uj_dqQrd",
        "outputId": "2181e80f-af18-4160-e504-484592e37817"
      },
      "source": [
        "a = [1,2,3]\n",
        "type(a)"
      ],
      "execution_count": null,
      "outputs": [
        {
          "output_type": "execute_result",
          "data": {
            "text/plain": [
              "list"
            ]
          },
          "metadata": {},
          "execution_count": 146
        }
      ]
    },
    {
      "cell_type": "code",
      "metadata": {
        "id": "T_GHjOvq2SGI"
      },
      "source": [
        ""
      ],
      "execution_count": null,
      "outputs": []
    }
  ]
}